{
 "cells": [
  {
   "attachments": {},
   "cell_type": "markdown",
   "metadata": {},
   "source": [
    "## Imports"
   ]
  },
  {
   "cell_type": "code",
   "execution_count": 1,
   "metadata": {},
   "outputs": [],
   "source": [
    "import mne\n",
    "\n",
    "import matplotlib.pyplot as plt\n",
    "\n",
    "import numpy as np"
   ]
  },
  {
   "attachments": {},
   "cell_type": "markdown",
   "metadata": {},
   "source": [
    "## Load subject sample data + filter"
   ]
  },
  {
   "cell_type": "code",
   "execution_count": 2,
   "metadata": {},
   "outputs": [
    {
     "name": "stdout",
     "output_type": "stream",
     "text": [
      "Extracting EDF parameters from /home/ubuntu/personal-vm/EEG/data/S001/S001R04.edf...\n",
      "EDF file detected\n",
      "Setting channel info structure...\n",
      "Creating raw.info structure...\n",
      "Reading 0 ... 19999  =      0.000 ...   124.994 secs...\n",
      "Setting up band-pass filter from 0.01 - 0.1 Hz\n",
      "\n",
      "FIR filter parameters\n",
      "---------------------\n",
      "Designing a one-pass, zero-phase, non-causal bandpass filter:\n",
      "- Windowed time-domain design (firwin) method\n",
      "- Hamming window with 0.0194 passband ripple and 53 dB stopband attenuation\n",
      "- Lower passband edge: 0.01\n",
      "- Lower transition bandwidth: 0.01 Hz (-6 dB cutoff frequency: 0.01 Hz)\n",
      "- Upper passband edge: 0.10 Hz\n",
      "- Upper transition bandwidth: 0.01 Hz (-6 dB cutoff frequency: 0.11 Hz)\n",
      "- Filter length: 52801 samples (330.006 sec)\n",
      "\n"
     ]
    },
    {
     "name": "stderr",
     "output_type": "stream",
     "text": [
      "/tmp/ipykernel_10908/1752284564.py:9: RuntimeWarning: filter_length (52801) is longer than the signal (20000), distortion is likely. Reduce filter length or filter a longer signal.\n",
      "  super_low_freq = mne.filter.filter_data(data.get_data(), 160, 0.01, 0.1, h_trans_bandwidth=0.01, l_trans_bandwidth=0.01)\n",
      "[Parallel(n_jobs=1)]: Using backend SequentialBackend with 1 concurrent workers.\n",
      "[Parallel(n_jobs=1)]: Done   1 out of   1 | elapsed:    0.0s remaining:    0.0s\n",
      "[Parallel(n_jobs=1)]: Done   2 out of   2 | elapsed:    0.0s remaining:    0.0s\n",
      "[Parallel(n_jobs=1)]: Done   3 out of   3 | elapsed:    0.0s remaining:    0.0s\n",
      "[Parallel(n_jobs=1)]: Done   4 out of   4 | elapsed:    0.0s remaining:    0.0s\n"
     ]
    },
    {
     "name": "stdout",
     "output_type": "stream",
     "text": [
      "Setting up band-pass filter from 0.5 - 4 Hz\n",
      "\n",
      "FIR filter parameters\n",
      "---------------------\n",
      "Designing a one-pass, zero-phase, non-causal bandpass filter:\n",
      "- Windowed time-domain design (firwin) method\n",
      "- Hamming window with 0.0194 passband ripple and 53 dB stopband attenuation\n",
      "- Lower passband edge: 0.50\n",
      "- Lower transition bandwidth: 0.01 Hz (-6 dB cutoff frequency: 0.49 Hz)\n",
      "- Upper passband edge: 4.00 Hz\n",
      "- Upper transition bandwidth: 0.01 Hz (-6 dB cutoff frequency: 4.00 Hz)\n",
      "- Filter length: 52801 samples (330.006 sec)\n",
      "\n"
     ]
    },
    {
     "name": "stderr",
     "output_type": "stream",
     "text": [
      "[Parallel(n_jobs=1)]: Done  64 out of  64 | elapsed:    0.4s finished\n",
      "/tmp/ipykernel_10908/1752284564.py:10: RuntimeWarning: filter_length (52801) is longer than the signal (20000), distortion is likely. Reduce filter length or filter a longer signal.\n",
      "  delta = mne.filter.filter_data(data.get_data(), 160, 0.5, 4, h_trans_bandwidth=0.01, l_trans_bandwidth=0.01)\n",
      "[Parallel(n_jobs=1)]: Using backend SequentialBackend with 1 concurrent workers.\n",
      "[Parallel(n_jobs=1)]: Done   1 out of   1 | elapsed:    0.0s remaining:    0.0s\n",
      "[Parallel(n_jobs=1)]: Done   2 out of   2 | elapsed:    0.0s remaining:    0.0s\n",
      "[Parallel(n_jobs=1)]: Done   3 out of   3 | elapsed:    0.0s remaining:    0.0s\n",
      "[Parallel(n_jobs=1)]: Done   4 out of   4 | elapsed:    0.0s remaining:    0.0s\n"
     ]
    },
    {
     "name": "stdout",
     "output_type": "stream",
     "text": [
      "Setting up band-pass filter from 4 - 8 Hz\n",
      "\n",
      "FIR filter parameters\n",
      "---------------------\n",
      "Designing a one-pass, zero-phase, non-causal bandpass filter:\n",
      "- Windowed time-domain design (firwin) method\n",
      "- Hamming window with 0.0194 passband ripple and 53 dB stopband attenuation\n",
      "- Lower passband edge: 4.00\n",
      "- Lower transition bandwidth: 0.01 Hz (-6 dB cutoff frequency: 4.00 Hz)\n",
      "- Upper passband edge: 8.00 Hz\n",
      "- Upper transition bandwidth: 0.01 Hz (-6 dB cutoff frequency: 8.01 Hz)\n",
      "- Filter length: 52801 samples (330.006 sec)\n",
      "\n"
     ]
    },
    {
     "name": "stderr",
     "output_type": "stream",
     "text": [
      "[Parallel(n_jobs=1)]: Done  64 out of  64 | elapsed:    0.4s finished\n",
      "/tmp/ipykernel_10908/1752284564.py:11: RuntimeWarning: filter_length (52801) is longer than the signal (20000), distortion is likely. Reduce filter length or filter a longer signal.\n",
      "  theta = mne.filter.filter_data(data.get_data(), 160, 4, 8, h_trans_bandwidth=0.01, l_trans_bandwidth=0.01)\n",
      "[Parallel(n_jobs=1)]: Using backend SequentialBackend with 1 concurrent workers.\n",
      "[Parallel(n_jobs=1)]: Done   1 out of   1 | elapsed:    0.0s remaining:    0.0s\n",
      "[Parallel(n_jobs=1)]: Done   2 out of   2 | elapsed:    0.0s remaining:    0.0s\n",
      "[Parallel(n_jobs=1)]: Done   3 out of   3 | elapsed:    0.0s remaining:    0.0s\n",
      "[Parallel(n_jobs=1)]: Done   4 out of   4 | elapsed:    0.0s remaining:    0.0s\n"
     ]
    },
    {
     "name": "stdout",
     "output_type": "stream",
     "text": [
      "Setting up band-pass filter from 8 - 14 Hz\n",
      "\n",
      "FIR filter parameters\n",
      "---------------------\n",
      "Designing a one-pass, zero-phase, non-causal bandpass filter:\n",
      "- Windowed time-domain design (firwin) method\n",
      "- Hamming window with 0.0194 passband ripple and 53 dB stopband attenuation\n",
      "- Lower passband edge: 8.00\n",
      "- Lower transition bandwidth: 0.01 Hz (-6 dB cutoff frequency: 8.00 Hz)\n",
      "- Upper passband edge: 14.00 Hz\n",
      "- Upper transition bandwidth: 0.01 Hz (-6 dB cutoff frequency: 14.01 Hz)\n",
      "- Filter length: 52801 samples (330.006 sec)\n",
      "\n"
     ]
    },
    {
     "name": "stderr",
     "output_type": "stream",
     "text": [
      "[Parallel(n_jobs=1)]: Done  64 out of  64 | elapsed:    0.4s finished\n",
      "/tmp/ipykernel_10908/1752284564.py:12: RuntimeWarning: filter_length (52801) is longer than the signal (20000), distortion is likely. Reduce filter length or filter a longer signal.\n",
      "  alpha = mne.filter.filter_data(data.get_data(), 160, 8, 14, h_trans_bandwidth=0.01, l_trans_bandwidth=0.01)\n",
      "[Parallel(n_jobs=1)]: Using backend SequentialBackend with 1 concurrent workers.\n",
      "[Parallel(n_jobs=1)]: Done   1 out of   1 | elapsed:    0.0s remaining:    0.0s\n",
      "[Parallel(n_jobs=1)]: Done   2 out of   2 | elapsed:    0.0s remaining:    0.0s\n",
      "[Parallel(n_jobs=1)]: Done   3 out of   3 | elapsed:    0.0s remaining:    0.0s\n",
      "[Parallel(n_jobs=1)]: Done   4 out of   4 | elapsed:    0.0s remaining:    0.0s\n"
     ]
    },
    {
     "name": "stdout",
     "output_type": "stream",
     "text": [
      "Setting up band-pass filter from 14 - 30 Hz\n",
      "\n",
      "FIR filter parameters\n",
      "---------------------\n",
      "Designing a one-pass, zero-phase, non-causal bandpass filter:\n",
      "- Windowed time-domain design (firwin) method\n",
      "- Hamming window with 0.0194 passband ripple and 53 dB stopband attenuation\n",
      "- Lower passband edge: 14.00\n",
      "- Lower transition bandwidth: 0.01 Hz (-6 dB cutoff frequency: 13.99 Hz)\n",
      "- Upper passband edge: 30.00 Hz\n",
      "- Upper transition bandwidth: 0.01 Hz (-6 dB cutoff frequency: 30.00 Hz)\n",
      "- Filter length: 52801 samples (330.006 sec)\n",
      "\n"
     ]
    },
    {
     "name": "stderr",
     "output_type": "stream",
     "text": [
      "[Parallel(n_jobs=1)]: Done  64 out of  64 | elapsed:    0.4s finished\n",
      "/tmp/ipykernel_10908/1752284564.py:13: RuntimeWarning: filter_length (52801) is longer than the signal (20000), distortion is likely. Reduce filter length or filter a longer signal.\n",
      "  beta = mne.filter.filter_data(data.get_data(), 160, 14, 30, h_trans_bandwidth=0.01, l_trans_bandwidth=0.01)\n",
      "[Parallel(n_jobs=1)]: Using backend SequentialBackend with 1 concurrent workers.\n",
      "[Parallel(n_jobs=1)]: Done   1 out of   1 | elapsed:    0.0s remaining:    0.0s\n",
      "[Parallel(n_jobs=1)]: Done   2 out of   2 | elapsed:    0.0s remaining:    0.0s\n",
      "[Parallel(n_jobs=1)]: Done   3 out of   3 | elapsed:    0.0s remaining:    0.0s\n",
      "[Parallel(n_jobs=1)]: Done   4 out of   4 | elapsed:    0.0s remaining:    0.0s\n"
     ]
    },
    {
     "name": "stdout",
     "output_type": "stream",
     "text": [
      "Setting up band-pass filter from 30 - 60 Hz\n",
      "\n",
      "FIR filter parameters\n",
      "---------------------\n",
      "Designing a one-pass, zero-phase, non-causal bandpass filter:\n",
      "- Windowed time-domain design (firwin) method\n",
      "- Hamming window with 0.0194 passband ripple and 53 dB stopband attenuation\n",
      "- Lower passband edge: 30.00\n",
      "- Lower transition bandwidth: 0.01 Hz (-6 dB cutoff frequency: 30.00 Hz)\n",
      "- Upper passband edge: 60.00 Hz\n",
      "- Upper transition bandwidth: 0.01 Hz (-6 dB cutoff frequency: 60.01 Hz)\n",
      "- Filter length: 52801 samples (330.006 sec)\n",
      "\n"
     ]
    },
    {
     "name": "stderr",
     "output_type": "stream",
     "text": [
      "[Parallel(n_jobs=1)]: Done  64 out of  64 | elapsed:    0.4s finished\n",
      "/tmp/ipykernel_10908/1752284564.py:14: RuntimeWarning: filter_length (52801) is longer than the signal (20000), distortion is likely. Reduce filter length or filter a longer signal.\n",
      "  gamma = mne.filter.filter_data(data.get_data(), 160, 30, 60, h_trans_bandwidth=0.01, l_trans_bandwidth=0.01)\n",
      "[Parallel(n_jobs=1)]: Using backend SequentialBackend with 1 concurrent workers.\n",
      "[Parallel(n_jobs=1)]: Done   1 out of   1 | elapsed:    0.0s remaining:    0.0s\n",
      "[Parallel(n_jobs=1)]: Done   2 out of   2 | elapsed:    0.0s remaining:    0.0s\n",
      "[Parallel(n_jobs=1)]: Done   3 out of   3 | elapsed:    0.0s remaining:    0.0s\n",
      "[Parallel(n_jobs=1)]: Done   4 out of   4 | elapsed:    0.0s remaining:    0.0s\n"
     ]
    },
    {
     "name": "stdout",
     "output_type": "stream",
     "text": [
      "Setting up high-pass filter at 60 Hz\n",
      "\n",
      "FIR filter parameters\n",
      "---------------------\n",
      "Designing a one-pass, zero-phase, non-causal highpass filter:\n",
      "- Windowed time-domain design (firwin) method\n",
      "- Hamming window with 0.0194 passband ripple and 53 dB stopband attenuation\n",
      "- Lower passband edge: 60.00\n",
      "- Lower transition bandwidth: 0.01 Hz (-6 dB cutoff frequency: 59.99 Hz)\n",
      "- Filter length: 52801 samples (330.006 sec)\n",
      "\n"
     ]
    },
    {
     "name": "stderr",
     "output_type": "stream",
     "text": [
      "[Parallel(n_jobs=1)]: Done  64 out of  64 | elapsed:    0.4s finished\n",
      "/tmp/ipykernel_10908/1752284564.py:15: RuntimeWarning: filter_length (52801) is longer than the signal (20000), distortion is likely. Reduce filter length or filter a longer signal.\n",
      "  high_gamma = mne.filter.filter_data(data.get_data(), 160, 60, None, h_trans_bandwidth=0.01, l_trans_bandwidth=0.01)\n",
      "[Parallel(n_jobs=1)]: Using backend SequentialBackend with 1 concurrent workers.\n",
      "[Parallel(n_jobs=1)]: Done   1 out of   1 | elapsed:    0.0s remaining:    0.0s\n",
      "[Parallel(n_jobs=1)]: Done   2 out of   2 | elapsed:    0.0s remaining:    0.0s\n",
      "[Parallel(n_jobs=1)]: Done   3 out of   3 | elapsed:    0.0s remaining:    0.0s\n",
      "[Parallel(n_jobs=1)]: Done   4 out of   4 | elapsed:    0.0s remaining:    0.0s\n",
      "[Parallel(n_jobs=1)]: Done  64 out of  64 | elapsed:    0.4s finished\n"
     ]
    }
   ],
   "source": [
    "file = \"data/S001/S001R04.edf\"\n",
    "data = mne.io.read_raw_edf(file, preload=True)\n",
    "\n",
    "info = data.info\n",
    "channels = data.ch_names\n",
    "annotations = data.annotations\n",
    "\n",
    "# transition bandwidth - 160Hz sampling frequency\n",
    "super_low_freq = mne.filter.filter_data(data.get_data(), 160, 0.01, 0.1, h_trans_bandwidth=0.01, l_trans_bandwidth=0.01)\n",
    "delta = mne.filter.filter_data(data.get_data(), 160, 0.5, 4, h_trans_bandwidth=0.01, l_trans_bandwidth=0.01)\n",
    "theta = mne.filter.filter_data(data.get_data(), 160, 4, 8, h_trans_bandwidth=0.01, l_trans_bandwidth=0.01)\n",
    "alpha = mne.filter.filter_data(data.get_data(), 160, 8, 14, h_trans_bandwidth=0.01, l_trans_bandwidth=0.01)\n",
    "beta = mne.filter.filter_data(data.get_data(), 160, 14, 30, h_trans_bandwidth=0.01, l_trans_bandwidth=0.01)\n",
    "gamma = mne.filter.filter_data(data.get_data(), 160, 30, 60, h_trans_bandwidth=0.01, l_trans_bandwidth=0.01)\n",
    "high_gamma = mne.filter.filter_data(data.get_data(), 160, 60, None, h_trans_bandwidth=0.01, l_trans_bandwidth=0.01)\n",
    "\n",
    "raw_data = data.get_data()"
   ]
  },
  {
   "attachments": {},
   "cell_type": "markdown",
   "metadata": {},
   "source": [
    "## Desired channel indices"
   ]
  },
  {
   "cell_type": "code",
   "execution_count": 3,
   "metadata": {},
   "outputs": [
    {
     "data": {
      "text/plain": [
       "[<matplotlib.lines.Line2D at 0x7fe60ed5bb20>]"
      ]
     },
     "execution_count": 3,
     "metadata": {},
     "output_type": "execute_result"
    },
    {
     "data": {
      "image/png": "[encoded data removed]",
      "text/plain": [
       "<Figure size 640x480 with 1 Axes>"
      ]
     },
     "metadata": {},
     "output_type": "display_data"
    }
   ],
   "source": [
    "plt.plot(beta[10])\n",
    "plt.plot(super_low_freq[10])"
   ]
  },
  {
   "cell_type": "code",
   "execution_count": 4,
   "metadata": {},
   "outputs": [
    {
     "data": {
      "text/plain": [
       "(25, 7, 64)"
      ]
     },
     "execution_count": 4,
     "metadata": {},
     "output_type": "execute_result"
    }
   ],
   "source": [
    "# power_value = np.sum(np.power(delta[10], 2)) / delta.shape[1]\n",
    "# print(power_value)\n",
    "\n",
    "sampling_rate = 160\n",
    "duration = 5\n",
    "def transform_frequency_band(frequency_band):\n",
    "    frequency_band_windowed = frequency_band.reshape((frequency_band.shape[0], int(frequency_band.shape[1] / (sampling_rate * duration)), -1))\n",
    "    return np.expand_dims((np.sum(np.power(frequency_band_windowed, 2), axis=2) / frequency_band_windowed.shape[2]).T, 1)\n",
    "\n",
    "# each window has duration 5 seconds\n",
    "super_low_freq_power = transform_frequency_band(super_low_freq)\n",
    "\n",
    "delta_power = transform_frequency_band(delta)\n",
    "\n",
    "theta_power = transform_frequency_band(theta)\n",
    "\n",
    "alpha_power = transform_frequency_band(alpha)\n",
    "\n",
    "beta_power = transform_frequency_band(beta)\n",
    "\n",
    "gamma_power = transform_frequency_band(gamma)\n",
    "\n",
    "high_gamma_power = transform_frequency_band(high_gamma)\n",
    "\n",
    "\n",
    "final_processed_data = np.concatenate((super_low_freq_power, delta_power, theta_power, alpha_power, beta_power, gamma_power, high_gamma_power), axis=1)\n",
    "final_processed_data.shape"
   ]
  },
  {
   "cell_type": "code",
   "execution_count": 5,
   "metadata": {},
   "outputs": [
    {
     "name": "stdout",
     "output_type": "stream",
     "text": [
      "[8, 7]\n",
      "[12, 13]\n"
     ]
    }
   ],
   "source": [
    "left_cortex_channels = [channels.index(\"C3..\"), channels.index(\"C5..\")]\n",
    "right_cortex_channels = [channels.index(\"C4..\"), channels.index(\"C6..\")]\n",
    "\n",
    "print(left_cortex_channels)\n",
    "print(right_cortex_channels)"
   ]
  },
  {
   "attachments": {},
   "cell_type": "markdown",
   "metadata": {},
   "source": [
    "## Events -> slice full waveform"
   ]
  },
  {
   "cell_type": "code",
   "execution_count": 6,
   "metadata": {},
   "outputs": [
    {
     "name": "stdout",
     "output_type": "stream",
     "text": [
      "Used Annotations descriptions: ['T0', 'T1', 'T2']\n"
     ]
    },
    {
     "data": {
      "text/plain": [
       "(array([[    0,     0,     1],\n",
       "        [  672,     0,     3],\n",
       "        [ 1328,     0,     1],\n",
       "        [ 2000,     0,     2],\n",
       "        [ 2656,     0,     1],\n",
       "        [ 3328,     0,     2],\n",
       "        [ 3984,     0,     1],\n",
       "        [ 4656,     0,     3],\n",
       "        [ 5312,     0,     1],\n",
       "        [ 5984,     0,     3],\n",
       "        [ 6640,     0,     1],\n",
       "        [ 7312,     0,     2],\n",
       "        [ 7968,     0,     1],\n",
       "        [ 8640,     0,     3],\n",
       "        [ 9296,     0,     1],\n",
       "        [ 9968,     0,     2],\n",
       "        [10624,     0,     1],\n",
       "        [11296,     0,     3],\n",
       "        [11952,     0,     1],\n",
       "        [12624,     0,     2],\n",
       "        [13280,     0,     1],\n",
       "        [13952,     0,     2],\n",
       "        [14608,     0,     1],\n",
       "        [15280,     0,     3],\n",
       "        [15936,     0,     1],\n",
       "        [16608,     0,     2],\n",
       "        [17264,     0,     1],\n",
       "        [17936,     0,     3],\n",
       "        [18592,     0,     1],\n",
       "        [19264,     0,     2]]),\n",
       " {'T0': 1, 'T1': 2, 'T2': 3})"
      ]
     },
     "execution_count": 6,
     "metadata": {},
     "output_type": "execute_result"
    }
   ],
   "source": [
    "events = mne.events_from_annotations(data)\n",
    "events"
   ]
  },
  {
   "attachments": {},
   "cell_type": "markdown",
   "metadata": {},
   "source": [
    "## Epoch data"
   ]
  },
  {
   "cell_type": "code",
   "execution_count": 7,
   "metadata": {},
   "outputs": [],
   "source": [
    "def get_frequency_bands(data):\n",
    "    super_low_freq = mne.filter.filter_data(data.get_data(), 160, 0.01, 0.1, h_trans_bandwidth=0.01, l_trans_bandwidth=0.01)\n",
    "    delta = mne.filter.filter_data(data.get_data(), 160, 0.5, 4, h_trans_bandwidth=0.01, l_trans_bandwidth=0.01)\n",
    "    theta = mne.filter.filter_data(data.get_data(), 160, 4, 8, h_trans_bandwidth=0.01, l_trans_bandwidth=0.01)\n",
    "    alpha = mne.filter.filter_data(data.get_data(), 160, 8, 14, h_trans_bandwidth=0.01, l_trans_bandwidth=0.01)\n",
    "    beta = mne.filter.filter_data(data.get_data(), 160, 14, 30, h_trans_bandwidth=0.01, l_trans_bandwidth=0.01)\n",
    "    gamma = mne.filter.filter_data(data.get_data(), 160, 30, 60, h_trans_bandwidth=0.01, l_trans_bandwidth=0.01)\n",
    "    high_gamma = mne.filter.filter_data(data.get_data(), 160, 60, None, h_trans_bandwidth=0.01, l_trans_bandwidth=0.01)\n",
    "\n",
    "    return (super_low_freq, delta, theta, alpha, beta, gamma, high_gamma)"
   ]
  },
  {
   "cell_type": "code",
   "execution_count": 8,
   "metadata": {},
   "outputs": [
    {
     "name": "stdout",
     "output_type": "stream",
     "text": [
      "Not setting metadata\n",
      "30 matching events found\n",
      "Applying baseline correction (mode: mean)\n",
      "0 projection items activated\n",
      "Using data from preloaded Raw for 15 events and 657 original time points ...\n",
      "0 bad epochs dropped\n",
      "Setting up band-pass filter from 0.01 - 0.1 Hz\n",
      "\n",
      "FIR filter parameters\n",
      "---------------------\n",
      "Designing a one-pass, zero-phase, non-causal bandpass filter:\n",
      "- Windowed time-domain design (firwin) method\n",
      "- Hamming window with 0.0194 passband ripple and 53 dB stopband attenuation\n",
      "- Lower passband edge: 0.01\n",
      "- Lower transition bandwidth: 0.01 Hz (-6 dB cutoff frequency: 0.01 Hz)\n",
      "- Upper passband edge: 0.10 Hz\n",
      "- Upper transition bandwidth: 0.01 Hz (-6 dB cutoff frequency: 0.11 Hz)\n",
      "- Filter length: 52801 samples (330.006 sec)\n",
      "\n"
     ]
    },
    {
     "name": "stderr",
     "output_type": "stream",
     "text": [
      "/tmp/ipykernel_10908/2567194375.py:2: RuntimeWarning: filter_length (52801) is longer than the signal (657), distortion is likely. Reduce filter length or filter a longer signal.\n",
      "  super_low_freq = mne.filter.filter_data(data.get_data(), 160, 0.01, 0.1, h_trans_bandwidth=0.01, l_trans_bandwidth=0.01)\n",
      "[Parallel(n_jobs=1)]: Using backend SequentialBackend with 1 concurrent workers.\n",
      "[Parallel(n_jobs=1)]: Done   1 out of   1 | elapsed:    0.0s remaining:    0.0s\n",
      "[Parallel(n_jobs=1)]: Done   2 out of   2 | elapsed:    0.0s remaining:    0.0s\n",
      "[Parallel(n_jobs=1)]: Done   3 out of   3 | elapsed:    0.0s remaining:    0.0s\n",
      "[Parallel(n_jobs=1)]: Done   4 out of   4 | elapsed:    0.0s remaining:    0.0s\n"
     ]
    },
    {
     "name": "stdout",
     "output_type": "stream",
     "text": [
      "Using data from preloaded Raw for 15 events and 657 original time points ...\n",
      "Setting up band-pass filter from 0.5 - 4 Hz\n",
      "\n",
      "FIR filter parameters\n",
      "---------------------\n",
      "Designing a one-pass, zero-phase, non-causal bandpass filter:\n",
      "- Windowed time-domain design (firwin) method\n",
      "- Hamming window with 0.0194 passband ripple and 53 dB stopband attenuation\n",
      "- Lower passband edge: 0.50\n",
      "- Lower transition bandwidth: 0.01 Hz (-6 dB cutoff frequency: 0.49 Hz)\n",
      "- Upper passband edge: 4.00 Hz\n",
      "- Upper transition bandwidth: 0.01 Hz (-6 dB cutoff frequency: 4.00 Hz)\n",
      "- Filter length: 52801 samples (330.006 sec)\n",
      "\n"
     ]
    },
    {
     "name": "stderr",
     "output_type": "stream",
     "text": [
      "[Parallel(n_jobs=1)]: Done 960 out of 960 | elapsed:    2.8s finished\n",
      "/tmp/ipykernel_10908/2567194375.py:3: RuntimeWarning: filter_length (52801) is longer than the signal (657), distortion is likely. Reduce filter length or filter a longer signal.\n",
      "  delta = mne.filter.filter_data(data.get_data(), 160, 0.5, 4, h_trans_bandwidth=0.01, l_trans_bandwidth=0.01)\n",
      "[Parallel(n_jobs=1)]: Using backend SequentialBackend with 1 concurrent workers.\n",
      "[Parallel(n_jobs=1)]: Done   1 out of   1 | elapsed:    0.0s remaining:    0.0s\n",
      "[Parallel(n_jobs=1)]: Done   2 out of   2 | elapsed:    0.0s remaining:    0.0s\n",
      "[Parallel(n_jobs=1)]: Done   3 out of   3 | elapsed:    0.0s remaining:    0.0s\n",
      "[Parallel(n_jobs=1)]: Done   4 out of   4 | elapsed:    0.0s remaining:    0.0s\n"
     ]
    },
    {
     "name": "stdout",
     "output_type": "stream",
     "text": [
      "Using data from preloaded Raw for 15 events and 657 original time points ...\n",
      "Setting up band-pass filter from 4 - 8 Hz\n",
      "\n",
      "FIR filter parameters\n",
      "---------------------\n",
      "Designing a one-pass, zero-phase, non-causal bandpass filter:\n",
      "- Windowed time-domain design (firwin) method\n",
      "- Hamming window with 0.0194 passband ripple and 53 dB stopband attenuation\n",
      "- Lower passband edge: 4.00\n",
      "- Lower transition bandwidth: 0.01 Hz (-6 dB cutoff frequency: 4.00 Hz)\n",
      "- Upper passband edge: 8.00 Hz\n",
      "- Upper transition bandwidth: 0.01 Hz (-6 dB cutoff frequency: 8.01 Hz)\n",
      "- Filter length: 52801 samples (330.006 sec)\n",
      "\n"
     ]
    },
    {
     "name": "stderr",
     "output_type": "stream",
     "text": [
      "[Parallel(n_jobs=1)]: Done 960 out of 960 | elapsed:    2.7s finished\n",
      "/tmp/ipykernel_10908/2567194375.py:4: RuntimeWarning: filter_length (52801) is longer than the signal (657), distortion is likely. Reduce filter length or filter a longer signal.\n",
      "  theta = mne.filter.filter_data(data.get_data(), 160, 4, 8, h_trans_bandwidth=0.01, l_trans_bandwidth=0.01)\n",
      "[Parallel(n_jobs=1)]: Using backend SequentialBackend with 1 concurrent workers.\n",
      "[Parallel(n_jobs=1)]: Done   1 out of   1 | elapsed:    0.0s remaining:    0.0s\n",
      "[Parallel(n_jobs=1)]: Done   2 out of   2 | elapsed:    0.0s remaining:    0.0s\n",
      "[Parallel(n_jobs=1)]: Done   3 out of   3 | elapsed:    0.0s remaining:    0.0s\n",
      "[Parallel(n_jobs=1)]: Done   4 out of   4 | elapsed:    0.0s remaining:    0.0s\n"
     ]
    },
    {
     "name": "stdout",
     "output_type": "stream",
     "text": [
      "Using data from preloaded Raw for 15 events and 657 original time points ...\n",
      "Setting up band-pass filter from 8 - 14 Hz\n",
      "\n",
      "FIR filter parameters\n",
      "---------------------\n",
      "Designing a one-pass, zero-phase, non-causal bandpass filter:\n",
      "- Windowed time-domain design (firwin) method\n",
      "- Hamming window with 0.0194 passband ripple and 53 dB stopband attenuation\n",
      "- Lower passband edge: 8.00\n",
      "- Lower transition bandwidth: 0.01 Hz (-6 dB cutoff frequency: 8.00 Hz)\n",
      "- Upper passband edge: 14.00 Hz\n",
      "- Upper transition bandwidth: 0.01 Hz (-6 dB cutoff frequency: 14.01 Hz)\n",
      "- Filter length: 52801 samples (330.006 sec)\n",
      "\n"
     ]
    },
    {
     "name": "stderr",
     "output_type": "stream",
     "text": [
      "[Parallel(n_jobs=1)]: Done 960 out of 960 | elapsed:    2.8s finished\n",
      "/tmp/ipykernel_10908/2567194375.py:5: RuntimeWarning: filter_length (52801) is longer than the signal (657), distortion is likely. Reduce filter length or filter a longer signal.\n",
      "  alpha = mne.filter.filter_data(data.get_data(), 160, 8, 14, h_trans_bandwidth=0.01, l_trans_bandwidth=0.01)\n",
      "[Parallel(n_jobs=1)]: Using backend SequentialBackend with 1 concurrent workers.\n",
      "[Parallel(n_jobs=1)]: Done   1 out of   1 | elapsed:    0.0s remaining:    0.0s\n",
      "[Parallel(n_jobs=1)]: Done   2 out of   2 | elapsed:    0.0s remaining:    0.0s\n",
      "[Parallel(n_jobs=1)]: Done   3 out of   3 | elapsed:    0.0s remaining:    0.0s\n",
      "[Parallel(n_jobs=1)]: Done   4 out of   4 | elapsed:    0.0s remaining:    0.0s\n"
     ]
    },
    {
     "name": "stdout",
     "output_type": "stream",
     "text": [
      "Using data from preloaded Raw for 15 events and 657 original time points ...\n",
      "Setting up band-pass filter from 14 - 30 Hz\n",
      "\n",
      "FIR filter parameters\n",
      "---------------------\n",
      "Designing a one-pass, zero-phase, non-causal bandpass filter:\n",
      "- Windowed time-domain design (firwin) method\n",
      "- Hamming window with 0.0194 passband ripple and 53 dB stopband attenuation\n",
      "- Lower passband edge: 14.00\n",
      "- Lower transition bandwidth: 0.01 Hz (-6 dB cutoff frequency: 13.99 Hz)\n",
      "- Upper passband edge: 30.00 Hz\n",
      "- Upper transition bandwidth: 0.01 Hz (-6 dB cutoff frequency: 30.00 Hz)\n",
      "- Filter length: 52801 samples (330.006 sec)\n",
      "\n"
     ]
    },
    {
     "name": "stderr",
     "output_type": "stream",
     "text": [
      "[Parallel(n_jobs=1)]: Done 960 out of 960 | elapsed:    3.0s finished\n",
      "/tmp/ipykernel_10908/2567194375.py:6: RuntimeWarning: filter_length (52801) is longer than the signal (657), distortion is likely. Reduce filter length or filter a longer signal.\n",
      "  beta = mne.filter.filter_data(data.get_data(), 160, 14, 30, h_trans_bandwidth=0.01, l_trans_bandwidth=0.01)\n",
      "[Parallel(n_jobs=1)]: Using backend SequentialBackend with 1 concurrent workers.\n",
      "[Parallel(n_jobs=1)]: Done   1 out of   1 | elapsed:    0.0s remaining:    0.0s\n",
      "[Parallel(n_jobs=1)]: Done   2 out of   2 | elapsed:    0.0s remaining:    0.0s\n",
      "[Parallel(n_jobs=1)]: Done   3 out of   3 | elapsed:    0.0s remaining:    0.0s\n",
      "[Parallel(n_jobs=1)]: Done   4 out of   4 | elapsed:    0.0s remaining:    0.0s\n"
     ]
    },
    {
     "name": "stdout",
     "output_type": "stream",
     "text": [
      "Using data from preloaded Raw for 15 events and 657 original time points ...\n",
      "Setting up band-pass filter from 30 - 60 Hz\n",
      "\n",
      "FIR filter parameters\n",
      "---------------------\n",
      "Designing a one-pass, zero-phase, non-causal bandpass filter:\n",
      "- Windowed time-domain design (firwin) method\n",
      "- Hamming window with 0.0194 passband ripple and 53 dB stopband attenuation\n",
      "- Lower passband edge: 30.00\n",
      "- Lower transition bandwidth: 0.01 Hz (-6 dB cutoff frequency: 30.00 Hz)\n",
      "- Upper passband edge: 60.00 Hz\n",
      "- Upper transition bandwidth: 0.01 Hz (-6 dB cutoff frequency: 60.01 Hz)\n",
      "- Filter length: 52801 samples (330.006 sec)\n",
      "\n"
     ]
    },
    {
     "name": "stderr",
     "output_type": "stream",
     "text": [
      "[Parallel(n_jobs=1)]: Done 960 out of 960 | elapsed:    2.7s finished\n",
      "/tmp/ipykernel_10908/2567194375.py:7: RuntimeWarning: filter_length (52801) is longer than the signal (657), distortion is likely. Reduce filter length or filter a longer signal.\n",
      "  gamma = mne.filter.filter_data(data.get_data(), 160, 30, 60, h_trans_bandwidth=0.01, l_trans_bandwidth=0.01)\n",
      "[Parallel(n_jobs=1)]: Using backend SequentialBackend with 1 concurrent workers.\n",
      "[Parallel(n_jobs=1)]: Done   1 out of   1 | elapsed:    0.0s remaining:    0.0s\n",
      "[Parallel(n_jobs=1)]: Done   2 out of   2 | elapsed:    0.0s remaining:    0.0s\n",
      "[Parallel(n_jobs=1)]: Done   3 out of   3 | elapsed:    0.0s remaining:    0.0s\n",
      "[Parallel(n_jobs=1)]: Done   4 out of   4 | elapsed:    0.0s remaining:    0.0s\n"
     ]
    },
    {
     "name": "stdout",
     "output_type": "stream",
     "text": [
      "Using data from preloaded Raw for 15 events and 657 original time points ...\n",
      "Setting up high-pass filter at 60 Hz\n",
      "\n",
      "FIR filter parameters\n",
      "---------------------\n",
      "Designing a one-pass, zero-phase, non-causal highpass filter:\n",
      "- Windowed time-domain design (firwin) method\n",
      "- Hamming window with 0.0194 passband ripple and 53 dB stopband attenuation\n",
      "- Lower passband edge: 60.00\n",
      "- Lower transition bandwidth: 0.01 Hz (-6 dB cutoff frequency: 59.99 Hz)\n",
      "- Filter length: 52801 samples (330.006 sec)\n",
      "\n"
     ]
    },
    {
     "name": "stderr",
     "output_type": "stream",
     "text": [
      "[Parallel(n_jobs=1)]: Done 960 out of 960 | elapsed:    2.7s finished\n",
      "/tmp/ipykernel_10908/2567194375.py:8: RuntimeWarning: filter_length (52801) is longer than the signal (657), distortion is likely. Reduce filter length or filter a longer signal.\n",
      "  high_gamma = mne.filter.filter_data(data.get_data(), 160, 60, None, h_trans_bandwidth=0.01, l_trans_bandwidth=0.01)\n",
      "[Parallel(n_jobs=1)]: Using backend SequentialBackend with 1 concurrent workers.\n",
      "[Parallel(n_jobs=1)]: Done   1 out of   1 | elapsed:    0.0s remaining:    0.0s\n",
      "[Parallel(n_jobs=1)]: Done   2 out of   2 | elapsed:    0.0s remaining:    0.0s\n",
      "[Parallel(n_jobs=1)]: Done   3 out of   3 | elapsed:    0.0s remaining:    0.0s\n",
      "[Parallel(n_jobs=1)]: Done   4 out of   4 | elapsed:    0.0s remaining:    0.0s\n"
     ]
    },
    {
     "name": "stdout",
     "output_type": "stream",
     "text": [
      "Using data from preloaded Raw for 15 events and 657 original time points ...\n",
      "0 bad epochs dropped\n",
      "Setting up band-pass filter from 0.01 - 0.1 Hz\n",
      "\n",
      "FIR filter parameters\n",
      "---------------------\n",
      "Designing a one-pass, zero-phase, non-causal bandpass filter:\n",
      "- Windowed time-domain design (firwin) method\n",
      "- Hamming window with 0.0194 passband ripple and 53 dB stopband attenuation\n",
      "- Lower passband edge: 0.01\n",
      "- Lower transition bandwidth: 0.01 Hz (-6 dB cutoff frequency: 0.01 Hz)\n",
      "- Upper passband edge: 0.10 Hz\n",
      "- Upper transition bandwidth: 0.01 Hz (-6 dB cutoff frequency: 0.11 Hz)\n",
      "- Filter length: 52801 samples (330.006 sec)\n",
      "\n"
     ]
    },
    {
     "name": "stderr",
     "output_type": "stream",
     "text": [
      "[Parallel(n_jobs=1)]: Done 960 out of 960 | elapsed:    2.7s finished\n",
      "/tmp/ipykernel_10908/2567194375.py:2: RuntimeWarning: filter_length (52801) is longer than the signal (657), distortion is likely. Reduce filter length or filter a longer signal.\n",
      "  super_low_freq = mne.filter.filter_data(data.get_data(), 160, 0.01, 0.1, h_trans_bandwidth=0.01, l_trans_bandwidth=0.01)\n",
      "[Parallel(n_jobs=1)]: Using backend SequentialBackend with 1 concurrent workers.\n",
      "[Parallel(n_jobs=1)]: Done   1 out of   1 | elapsed:    0.0s remaining:    0.0s\n",
      "[Parallel(n_jobs=1)]: Done   2 out of   2 | elapsed:    0.0s remaining:    0.0s\n",
      "[Parallel(n_jobs=1)]: Done   3 out of   3 | elapsed:    0.0s remaining:    0.0s\n",
      "[Parallel(n_jobs=1)]: Done   4 out of   4 | elapsed:    0.0s remaining:    0.0s\n"
     ]
    },
    {
     "name": "stdout",
     "output_type": "stream",
     "text": [
      "Using data from preloaded Raw for 15 events and 657 original time points ...\n",
      "Setting up band-pass filter from 0.5 - 4 Hz\n",
      "\n",
      "FIR filter parameters\n",
      "---------------------\n",
      "Designing a one-pass, zero-phase, non-causal bandpass filter:\n",
      "- Windowed time-domain design (firwin) method\n",
      "- Hamming window with 0.0194 passband ripple and 53 dB stopband attenuation\n",
      "- Lower passband edge: 0.50\n",
      "- Lower transition bandwidth: 0.01 Hz (-6 dB cutoff frequency: 0.49 Hz)\n",
      "- Upper passband edge: 4.00 Hz\n",
      "- Upper transition bandwidth: 0.01 Hz (-6 dB cutoff frequency: 4.00 Hz)\n",
      "- Filter length: 52801 samples (330.006 sec)\n",
      "\n"
     ]
    },
    {
     "name": "stderr",
     "output_type": "stream",
     "text": [
      "[Parallel(n_jobs=1)]: Done 960 out of 960 | elapsed:    2.7s finished\n",
      "/tmp/ipykernel_10908/2567194375.py:3: RuntimeWarning: filter_length (52801) is longer than the signal (657), distortion is likely. Reduce filter length or filter a longer signal.\n",
      "  delta = mne.filter.filter_data(data.get_data(), 160, 0.5, 4, h_trans_bandwidth=0.01, l_trans_bandwidth=0.01)\n",
      "[Parallel(n_jobs=1)]: Using backend SequentialBackend with 1 concurrent workers.\n",
      "[Parallel(n_jobs=1)]: Done   1 out of   1 | elapsed:    0.0s remaining:    0.0s\n",
      "[Parallel(n_jobs=1)]: Done   2 out of   2 | elapsed:    0.0s remaining:    0.0s\n",
      "[Parallel(n_jobs=1)]: Done   3 out of   3 | elapsed:    0.0s remaining:    0.0s\n",
      "[Parallel(n_jobs=1)]: Done   4 out of   4 | elapsed:    0.0s remaining:    0.0s\n"
     ]
    },
    {
     "name": "stdout",
     "output_type": "stream",
     "text": [
      "Using data from preloaded Raw for 15 events and 657 original time points ...\n",
      "Setting up band-pass filter from 4 - 8 Hz\n",
      "\n",
      "FIR filter parameters\n",
      "---------------------\n",
      "Designing a one-pass, zero-phase, non-causal bandpass filter:\n",
      "- Windowed time-domain design (firwin) method\n",
      "- Hamming window with 0.0194 passband ripple and 53 dB stopband attenuation\n",
      "- Lower passband edge: 4.00\n",
      "- Lower transition bandwidth: 0.01 Hz (-6 dB cutoff frequency: 4.00 Hz)\n",
      "- Upper passband edge: 8.00 Hz\n",
      "- Upper transition bandwidth: 0.01 Hz (-6 dB cutoff frequency: 8.01 Hz)\n",
      "- Filter length: 52801 samples (330.006 sec)\n",
      "\n"
     ]
    },
    {
     "name": "stderr",
     "output_type": "stream",
     "text": [
      "[Parallel(n_jobs=1)]: Done 960 out of 960 | elapsed:    2.7s finished\n",
      "/tmp/ipykernel_10908/2567194375.py:4: RuntimeWarning: filter_length (52801) is longer than the signal (657), distortion is likely. Reduce filter length or filter a longer signal.\n",
      "  theta = mne.filter.filter_data(data.get_data(), 160, 4, 8, h_trans_bandwidth=0.01, l_trans_bandwidth=0.01)\n",
      "[Parallel(n_jobs=1)]: Using backend SequentialBackend with 1 concurrent workers.\n",
      "[Parallel(n_jobs=1)]: Done   1 out of   1 | elapsed:    0.0s remaining:    0.0s\n",
      "[Parallel(n_jobs=1)]: Done   2 out of   2 | elapsed:    0.0s remaining:    0.0s\n",
      "[Parallel(n_jobs=1)]: Done   3 out of   3 | elapsed:    0.0s remaining:    0.0s\n",
      "[Parallel(n_jobs=1)]: Done   4 out of   4 | elapsed:    0.0s remaining:    0.0s\n"
     ]
    },
    {
     "name": "stdout",
     "output_type": "stream",
     "text": [
      "Using data from preloaded Raw for 15 events and 657 original time points ...\n",
      "Setting up band-pass filter from 8 - 14 Hz\n",
      "\n",
      "FIR filter parameters\n",
      "---------------------\n",
      "Designing a one-pass, zero-phase, non-causal bandpass filter:\n",
      "- Windowed time-domain design (firwin) method\n",
      "- Hamming window with 0.0194 passband ripple and 53 dB stopband attenuation\n",
      "- Lower passband edge: 8.00\n",
      "- Lower transition bandwidth: 0.01 Hz (-6 dB cutoff frequency: 8.00 Hz)\n",
      "- Upper passband edge: 14.00 Hz\n",
      "- Upper transition bandwidth: 0.01 Hz (-6 dB cutoff frequency: 14.01 Hz)\n",
      "- Filter length: 52801 samples (330.006 sec)\n",
      "\n"
     ]
    },
    {
     "name": "stderr",
     "output_type": "stream",
     "text": [
      "[Parallel(n_jobs=1)]: Done 960 out of 960 | elapsed:    2.7s finished\n",
      "/tmp/ipykernel_10908/2567194375.py:5: RuntimeWarning: filter_length (52801) is longer than the signal (657), distortion is likely. Reduce filter length or filter a longer signal.\n",
      "  alpha = mne.filter.filter_data(data.get_data(), 160, 8, 14, h_trans_bandwidth=0.01, l_trans_bandwidth=0.01)\n",
      "[Parallel(n_jobs=1)]: Using backend SequentialBackend with 1 concurrent workers.\n",
      "[Parallel(n_jobs=1)]: Done   1 out of   1 | elapsed:    0.0s remaining:    0.0s\n",
      "[Parallel(n_jobs=1)]: Done   2 out of   2 | elapsed:    0.0s remaining:    0.0s\n",
      "[Parallel(n_jobs=1)]: Done   3 out of   3 | elapsed:    0.0s remaining:    0.0s\n",
      "[Parallel(n_jobs=1)]: Done   4 out of   4 | elapsed:    0.0s remaining:    0.0s\n"
     ]
    },
    {
     "name": "stdout",
     "output_type": "stream",
     "text": [
      "Using data from preloaded Raw for 15 events and 657 original time points ...\n",
      "Setting up band-pass filter from 14 - 30 Hz\n",
      "\n",
      "FIR filter parameters\n",
      "---------------------\n",
      "Designing a one-pass, zero-phase, non-causal bandpass filter:\n",
      "- Windowed time-domain design (firwin) method\n",
      "- Hamming window with 0.0194 passband ripple and 53 dB stopband attenuation\n",
      "- Lower passband edge: 14.00\n",
      "- Lower transition bandwidth: 0.01 Hz (-6 dB cutoff frequency: 13.99 Hz)\n",
      "- Upper passband edge: 30.00 Hz\n",
      "- Upper transition bandwidth: 0.01 Hz (-6 dB cutoff frequency: 30.00 Hz)\n",
      "- Filter length: 52801 samples (330.006 sec)\n",
      "\n"
     ]
    },
    {
     "name": "stderr",
     "output_type": "stream",
     "text": [
      "[Parallel(n_jobs=1)]: Done 960 out of 960 | elapsed:    2.7s finished\n",
      "/tmp/ipykernel_10908/2567194375.py:6: RuntimeWarning: filter_length (52801) is longer than the signal (657), distortion is likely. Reduce filter length or filter a longer signal.\n",
      "  beta = mne.filter.filter_data(data.get_data(), 160, 14, 30, h_trans_bandwidth=0.01, l_trans_bandwidth=0.01)\n",
      "[Parallel(n_jobs=1)]: Using backend SequentialBackend with 1 concurrent workers.\n",
      "[Parallel(n_jobs=1)]: Done   1 out of   1 | elapsed:    0.0s remaining:    0.0s\n",
      "[Parallel(n_jobs=1)]: Done   2 out of   2 | elapsed:    0.0s remaining:    0.0s\n",
      "[Parallel(n_jobs=1)]: Done   3 out of   3 | elapsed:    0.0s remaining:    0.0s\n",
      "[Parallel(n_jobs=1)]: Done   4 out of   4 | elapsed:    0.0s remaining:    0.0s\n"
     ]
    },
    {
     "name": "stdout",
     "output_type": "stream",
     "text": [
      "Using data from preloaded Raw for 15 events and 657 original time points ...\n",
      "Setting up band-pass filter from 30 - 60 Hz\n",
      "\n",
      "FIR filter parameters\n",
      "---------------------\n",
      "Designing a one-pass, zero-phase, non-causal bandpass filter:\n",
      "- Windowed time-domain design (firwin) method\n",
      "- Hamming window with 0.0194 passband ripple and 53 dB stopband attenuation\n",
      "- Lower passband edge: 30.00\n",
      "- Lower transition bandwidth: 0.01 Hz (-6 dB cutoff frequency: 30.00 Hz)\n",
      "- Upper passband edge: 60.00 Hz\n",
      "- Upper transition bandwidth: 0.01 Hz (-6 dB cutoff frequency: 60.01 Hz)\n",
      "- Filter length: 52801 samples (330.006 sec)\n",
      "\n"
     ]
    },
    {
     "name": "stderr",
     "output_type": "stream",
     "text": [
      "[Parallel(n_jobs=1)]: Done 960 out of 960 | elapsed:    2.7s finished\n",
      "/tmp/ipykernel_10908/2567194375.py:7: RuntimeWarning: filter_length (52801) is longer than the signal (657), distortion is likely. Reduce filter length or filter a longer signal.\n",
      "  gamma = mne.filter.filter_data(data.get_data(), 160, 30, 60, h_trans_bandwidth=0.01, l_trans_bandwidth=0.01)\n",
      "[Parallel(n_jobs=1)]: Using backend SequentialBackend with 1 concurrent workers.\n",
      "[Parallel(n_jobs=1)]: Done   1 out of   1 | elapsed:    0.0s remaining:    0.0s\n",
      "[Parallel(n_jobs=1)]: Done   2 out of   2 | elapsed:    0.0s remaining:    0.0s\n",
      "[Parallel(n_jobs=1)]: Done   3 out of   3 | elapsed:    0.0s remaining:    0.0s\n",
      "[Parallel(n_jobs=1)]: Done   4 out of   4 | elapsed:    0.0s remaining:    0.0s\n"
     ]
    },
    {
     "name": "stdout",
     "output_type": "stream",
     "text": [
      "Using data from preloaded Raw for 15 events and 657 original time points ...\n",
      "Setting up high-pass filter at 60 Hz\n",
      "\n",
      "FIR filter parameters\n",
      "---------------------\n",
      "Designing a one-pass, zero-phase, non-causal highpass filter:\n",
      "- Windowed time-domain design (firwin) method\n",
      "- Hamming window with 0.0194 passband ripple and 53 dB stopband attenuation\n",
      "- Lower passband edge: 60.00\n",
      "- Lower transition bandwidth: 0.01 Hz (-6 dB cutoff frequency: 59.99 Hz)\n",
      "- Filter length: 52801 samples (330.006 sec)\n",
      "\n"
     ]
    },
    {
     "name": "stderr",
     "output_type": "stream",
     "text": [
      "[Parallel(n_jobs=1)]: Done 960 out of 960 | elapsed:    2.7s finished\n",
      "/tmp/ipykernel_10908/2567194375.py:8: RuntimeWarning: filter_length (52801) is longer than the signal (657), distortion is likely. Reduce filter length or filter a longer signal.\n",
      "  high_gamma = mne.filter.filter_data(data.get_data(), 160, 60, None, h_trans_bandwidth=0.01, l_trans_bandwidth=0.01)\n",
      "[Parallel(n_jobs=1)]: Using backend SequentialBackend with 1 concurrent workers.\n",
      "[Parallel(n_jobs=1)]: Done   1 out of   1 | elapsed:    0.0s remaining:    0.0s\n",
      "[Parallel(n_jobs=1)]: Done   2 out of   2 | elapsed:    0.0s remaining:    0.0s\n",
      "[Parallel(n_jobs=1)]: Done   3 out of   3 | elapsed:    0.0s remaining:    0.0s\n",
      "[Parallel(n_jobs=1)]: Done   4 out of   4 | elapsed:    0.0s remaining:    0.0s\n"
     ]
    },
    {
     "name": "stdout",
     "output_type": "stream",
     "text": [
      "Using data from preloaded Raw for 8 events and 657 original time points ...\n",
      "0 bad epochs dropped\n",
      "Setting up band-pass filter from 0.01 - 0.1 Hz\n",
      "\n",
      "FIR filter parameters\n",
      "---------------------\n",
      "Designing a one-pass, zero-phase, non-causal bandpass filter:\n",
      "- Windowed time-domain design (firwin) method\n",
      "- Hamming window with 0.0194 passband ripple and 53 dB stopband attenuation\n",
      "- Lower passband edge: 0.01\n",
      "- Lower transition bandwidth: 0.01 Hz (-6 dB cutoff frequency: 0.01 Hz)\n",
      "- Upper passband edge: 0.10 Hz\n",
      "- Upper transition bandwidth: 0.01 Hz (-6 dB cutoff frequency: 0.11 Hz)\n",
      "- Filter length: 52801 samples (330.006 sec)\n",
      "\n"
     ]
    },
    {
     "name": "stderr",
     "output_type": "stream",
     "text": [
      "[Parallel(n_jobs=1)]: Done 960 out of 960 | elapsed:    2.7s finished\n",
      "/tmp/ipykernel_10908/2567194375.py:2: RuntimeWarning: filter_length (52801) is longer than the signal (657), distortion is likely. Reduce filter length or filter a longer signal.\n",
      "  super_low_freq = mne.filter.filter_data(data.get_data(), 160, 0.01, 0.1, h_trans_bandwidth=0.01, l_trans_bandwidth=0.01)\n",
      "[Parallel(n_jobs=1)]: Using backend SequentialBackend with 1 concurrent workers.\n",
      "[Parallel(n_jobs=1)]: Done   1 out of   1 | elapsed:    0.0s remaining:    0.0s\n",
      "[Parallel(n_jobs=1)]: Done   2 out of   2 | elapsed:    0.0s remaining:    0.0s\n",
      "[Parallel(n_jobs=1)]: Done   3 out of   3 | elapsed:    0.0s remaining:    0.0s\n",
      "[Parallel(n_jobs=1)]: Done   4 out of   4 | elapsed:    0.0s remaining:    0.0s\n"
     ]
    },
    {
     "name": "stdout",
     "output_type": "stream",
     "text": [
      "Using data from preloaded Raw for 8 events and 657 original time points ...\n",
      "Setting up band-pass filter from 0.5 - 4 Hz\n",
      "\n",
      "FIR filter parameters\n",
      "---------------------\n",
      "Designing a one-pass, zero-phase, non-causal bandpass filter:\n",
      "- Windowed time-domain design (firwin) method\n",
      "- Hamming window with 0.0194 passband ripple and 53 dB stopband attenuation\n",
      "- Lower passband edge: 0.50\n",
      "- Lower transition bandwidth: 0.01 Hz (-6 dB cutoff frequency: 0.49 Hz)\n",
      "- Upper passband edge: 4.00 Hz\n",
      "- Upper transition bandwidth: 0.01 Hz (-6 dB cutoff frequency: 4.00 Hz)\n",
      "- Filter length: 52801 samples (330.006 sec)\n",
      "\n"
     ]
    },
    {
     "name": "stderr",
     "output_type": "stream",
     "text": [
      "[Parallel(n_jobs=1)]: Done 512 out of 512 | elapsed:    1.5s finished\n",
      "/tmp/ipykernel_10908/2567194375.py:3: RuntimeWarning: filter_length (52801) is longer than the signal (657), distortion is likely. Reduce filter length or filter a longer signal.\n",
      "  delta = mne.filter.filter_data(data.get_data(), 160, 0.5, 4, h_trans_bandwidth=0.01, l_trans_bandwidth=0.01)\n",
      "[Parallel(n_jobs=1)]: Using backend SequentialBackend with 1 concurrent workers.\n",
      "[Parallel(n_jobs=1)]: Done   1 out of   1 | elapsed:    0.0s remaining:    0.0s\n",
      "[Parallel(n_jobs=1)]: Done   2 out of   2 | elapsed:    0.0s remaining:    0.0s\n",
      "[Parallel(n_jobs=1)]: Done   3 out of   3 | elapsed:    0.0s remaining:    0.0s\n",
      "[Parallel(n_jobs=1)]: Done   4 out of   4 | elapsed:    0.0s remaining:    0.0s\n"
     ]
    },
    {
     "name": "stdout",
     "output_type": "stream",
     "text": [
      "Using data from preloaded Raw for 8 events and 657 original time points ...\n",
      "Setting up band-pass filter from 4 - 8 Hz\n",
      "\n",
      "FIR filter parameters\n",
      "---------------------\n",
      "Designing a one-pass, zero-phase, non-causal bandpass filter:\n",
      "- Windowed time-domain design (firwin) method\n",
      "- Hamming window with 0.0194 passband ripple and 53 dB stopband attenuation\n",
      "- Lower passband edge: 4.00\n",
      "- Lower transition bandwidth: 0.01 Hz (-6 dB cutoff frequency: 4.00 Hz)\n",
      "- Upper passband edge: 8.00 Hz\n",
      "- Upper transition bandwidth: 0.01 Hz (-6 dB cutoff frequency: 8.01 Hz)\n",
      "- Filter length: 52801 samples (330.006 sec)\n",
      "\n"
     ]
    },
    {
     "name": "stderr",
     "output_type": "stream",
     "text": [
      "[Parallel(n_jobs=1)]: Done 512 out of 512 | elapsed:    1.4s finished\n",
      "/tmp/ipykernel_10908/2567194375.py:4: RuntimeWarning: filter_length (52801) is longer than the signal (657), distortion is likely. Reduce filter length or filter a longer signal.\n",
      "  theta = mne.filter.filter_data(data.get_data(), 160, 4, 8, h_trans_bandwidth=0.01, l_trans_bandwidth=0.01)\n",
      "[Parallel(n_jobs=1)]: Using backend SequentialBackend with 1 concurrent workers.\n",
      "[Parallel(n_jobs=1)]: Done   1 out of   1 | elapsed:    0.0s remaining:    0.0s\n",
      "[Parallel(n_jobs=1)]: Done   2 out of   2 | elapsed:    0.0s remaining:    0.0s\n",
      "[Parallel(n_jobs=1)]: Done   3 out of   3 | elapsed:    0.0s remaining:    0.0s\n",
      "[Parallel(n_jobs=1)]: Done   4 out of   4 | elapsed:    0.0s remaining:    0.0s\n"
     ]
    },
    {
     "name": "stdout",
     "output_type": "stream",
     "text": [
      "Using data from preloaded Raw for 8 events and 657 original time points ...\n",
      "Setting up band-pass filter from 8 - 14 Hz\n",
      "\n",
      "FIR filter parameters\n",
      "---------------------\n",
      "Designing a one-pass, zero-phase, non-causal bandpass filter:\n",
      "- Windowed time-domain design (firwin) method\n",
      "- Hamming window with 0.0194 passband ripple and 53 dB stopband attenuation\n",
      "- Lower passband edge: 8.00\n",
      "- Lower transition bandwidth: 0.01 Hz (-6 dB cutoff frequency: 8.00 Hz)\n",
      "- Upper passband edge: 14.00 Hz\n",
      "- Upper transition bandwidth: 0.01 Hz (-6 dB cutoff frequency: 14.01 Hz)\n",
      "- Filter length: 52801 samples (330.006 sec)\n",
      "\n"
     ]
    },
    {
     "name": "stderr",
     "output_type": "stream",
     "text": [
      "[Parallel(n_jobs=1)]: Done 512 out of 512 | elapsed:    1.5s finished\n",
      "/tmp/ipykernel_10908/2567194375.py:5: RuntimeWarning: filter_length (52801) is longer than the signal (657), distortion is likely. Reduce filter length or filter a longer signal.\n",
      "  alpha = mne.filter.filter_data(data.get_data(), 160, 8, 14, h_trans_bandwidth=0.01, l_trans_bandwidth=0.01)\n",
      "[Parallel(n_jobs=1)]: Using backend SequentialBackend with 1 concurrent workers.\n",
      "[Parallel(n_jobs=1)]: Done   1 out of   1 | elapsed:    0.0s remaining:    0.0s\n",
      "[Parallel(n_jobs=1)]: Done   2 out of   2 | elapsed:    0.0s remaining:    0.0s\n",
      "[Parallel(n_jobs=1)]: Done   3 out of   3 | elapsed:    0.0s remaining:    0.0s\n",
      "[Parallel(n_jobs=1)]: Done   4 out of   4 | elapsed:    0.0s remaining:    0.0s\n"
     ]
    },
    {
     "name": "stdout",
     "output_type": "stream",
     "text": [
      "Using data from preloaded Raw for 8 events and 657 original time points ...\n",
      "Setting up band-pass filter from 14 - 30 Hz\n",
      "\n",
      "FIR filter parameters\n",
      "---------------------\n",
      "Designing a one-pass, zero-phase, non-causal bandpass filter:\n",
      "- Windowed time-domain design (firwin) method\n",
      "- Hamming window with 0.0194 passband ripple and 53 dB stopband attenuation\n",
      "- Lower passband edge: 14.00\n",
      "- Lower transition bandwidth: 0.01 Hz (-6 dB cutoff frequency: 13.99 Hz)\n",
      "- Upper passband edge: 30.00 Hz\n",
      "- Upper transition bandwidth: 0.01 Hz (-6 dB cutoff frequency: 30.00 Hz)\n",
      "- Filter length: 52801 samples (330.006 sec)\n",
      "\n"
     ]
    },
    {
     "name": "stderr",
     "output_type": "stream",
     "text": [
      "[Parallel(n_jobs=1)]: Done 512 out of 512 | elapsed:    1.4s finished\n",
      "/tmp/ipykernel_10908/2567194375.py:6: RuntimeWarning: filter_length (52801) is longer than the signal (657), distortion is likely. Reduce filter length or filter a longer signal.\n",
      "  beta = mne.filter.filter_data(data.get_data(), 160, 14, 30, h_trans_bandwidth=0.01, l_trans_bandwidth=0.01)\n",
      "[Parallel(n_jobs=1)]: Using backend SequentialBackend with 1 concurrent workers.\n",
      "[Parallel(n_jobs=1)]: Done   1 out of   1 | elapsed:    0.0s remaining:    0.0s\n",
      "[Parallel(n_jobs=1)]: Done   2 out of   2 | elapsed:    0.0s remaining:    0.0s\n",
      "[Parallel(n_jobs=1)]: Done   3 out of   3 | elapsed:    0.0s remaining:    0.0s\n",
      "[Parallel(n_jobs=1)]: Done   4 out of   4 | elapsed:    0.0s remaining:    0.0s\n"
     ]
    },
    {
     "name": "stdout",
     "output_type": "stream",
     "text": [
      "Using data from preloaded Raw for 8 events and 657 original time points ...\n",
      "Setting up band-pass filter from 30 - 60 Hz\n",
      "\n",
      "FIR filter parameters\n",
      "---------------------\n",
      "Designing a one-pass, zero-phase, non-causal bandpass filter:\n",
      "- Windowed time-domain design (firwin) method\n",
      "- Hamming window with 0.0194 passband ripple and 53 dB stopband attenuation\n",
      "- Lower passband edge: 30.00\n",
      "- Lower transition bandwidth: 0.01 Hz (-6 dB cutoff frequency: 30.00 Hz)\n",
      "- Upper passband edge: 60.00 Hz\n",
      "- Upper transition bandwidth: 0.01 Hz (-6 dB cutoff frequency: 60.01 Hz)\n",
      "- Filter length: 52801 samples (330.006 sec)\n",
      "\n"
     ]
    },
    {
     "name": "stderr",
     "output_type": "stream",
     "text": [
      "[Parallel(n_jobs=1)]: Done 512 out of 512 | elapsed:    1.4s finished\n",
      "/tmp/ipykernel_10908/2567194375.py:7: RuntimeWarning: filter_length (52801) is longer than the signal (657), distortion is likely. Reduce filter length or filter a longer signal.\n",
      "  gamma = mne.filter.filter_data(data.get_data(), 160, 30, 60, h_trans_bandwidth=0.01, l_trans_bandwidth=0.01)\n",
      "[Parallel(n_jobs=1)]: Using backend SequentialBackend with 1 concurrent workers.\n",
      "[Parallel(n_jobs=1)]: Done   1 out of   1 | elapsed:    0.0s remaining:    0.0s\n",
      "[Parallel(n_jobs=1)]: Done   2 out of   2 | elapsed:    0.0s remaining:    0.0s\n",
      "[Parallel(n_jobs=1)]: Done   3 out of   3 | elapsed:    0.0s remaining:    0.0s\n",
      "[Parallel(n_jobs=1)]: Done   4 out of   4 | elapsed:    0.0s remaining:    0.0s\n"
     ]
    },
    {
     "name": "stdout",
     "output_type": "stream",
     "text": [
      "Using data from preloaded Raw for 8 events and 657 original time points ...\n",
      "Setting up high-pass filter at 60 Hz\n",
      "\n",
      "FIR filter parameters\n",
      "---------------------\n",
      "Designing a one-pass, zero-phase, non-causal highpass filter:\n",
      "- Windowed time-domain design (firwin) method\n",
      "- Hamming window with 0.0194 passband ripple and 53 dB stopband attenuation\n",
      "- Lower passband edge: 60.00\n",
      "- Lower transition bandwidth: 0.01 Hz (-6 dB cutoff frequency: 59.99 Hz)\n",
      "- Filter length: 52801 samples (330.006 sec)\n",
      "\n"
     ]
    },
    {
     "name": "stderr",
     "output_type": "stream",
     "text": [
      "[Parallel(n_jobs=1)]: Done 512 out of 512 | elapsed:    1.4s finished\n",
      "/tmp/ipykernel_10908/2567194375.py:8: RuntimeWarning: filter_length (52801) is longer than the signal (657), distortion is likely. Reduce filter length or filter a longer signal.\n",
      "  high_gamma = mne.filter.filter_data(data.get_data(), 160, 60, None, h_trans_bandwidth=0.01, l_trans_bandwidth=0.01)\n",
      "[Parallel(n_jobs=1)]: Using backend SequentialBackend with 1 concurrent workers.\n",
      "[Parallel(n_jobs=1)]: Done   1 out of   1 | elapsed:    0.0s remaining:    0.0s\n",
      "[Parallel(n_jobs=1)]: Done   2 out of   2 | elapsed:    0.0s remaining:    0.0s\n",
      "[Parallel(n_jobs=1)]: Done   3 out of   3 | elapsed:    0.0s remaining:    0.0s\n",
      "[Parallel(n_jobs=1)]: Done   4 out of   4 | elapsed:    0.0s remaining:    0.0s\n"
     ]
    },
    {
     "name": "stdout",
     "output_type": "stream",
     "text": [
      "Using data from preloaded Raw for 8 events and 657 original time points ...\n",
      "0 bad epochs dropped\n",
      "Setting up band-pass filter from 0.01 - 0.1 Hz\n",
      "\n",
      "FIR filter parameters\n",
      "---------------------\n",
      "Designing a one-pass, zero-phase, non-causal bandpass filter:\n",
      "- Windowed time-domain design (firwin) method\n",
      "- Hamming window with 0.0194 passband ripple and 53 dB stopband attenuation\n",
      "- Lower passband edge: 0.01\n",
      "- Lower transition bandwidth: 0.01 Hz (-6 dB cutoff frequency: 0.01 Hz)\n",
      "- Upper passband edge: 0.10 Hz\n",
      "- Upper transition bandwidth: 0.01 Hz (-6 dB cutoff frequency: 0.11 Hz)\n",
      "- Filter length: 52801 samples (330.006 sec)\n",
      "\n"
     ]
    },
    {
     "name": "stderr",
     "output_type": "stream",
     "text": [
      "[Parallel(n_jobs=1)]: Done 512 out of 512 | elapsed:    1.5s finished\n",
      "/tmp/ipykernel_10908/2567194375.py:2: RuntimeWarning: filter_length (52801) is longer than the signal (657), distortion is likely. Reduce filter length or filter a longer signal.\n",
      "  super_low_freq = mne.filter.filter_data(data.get_data(), 160, 0.01, 0.1, h_trans_bandwidth=0.01, l_trans_bandwidth=0.01)\n",
      "[Parallel(n_jobs=1)]: Using backend SequentialBackend with 1 concurrent workers.\n",
      "[Parallel(n_jobs=1)]: Done   1 out of   1 | elapsed:    0.0s remaining:    0.0s\n",
      "[Parallel(n_jobs=1)]: Done   2 out of   2 | elapsed:    0.0s remaining:    0.0s\n",
      "[Parallel(n_jobs=1)]: Done   3 out of   3 | elapsed:    0.0s remaining:    0.0s\n",
      "[Parallel(n_jobs=1)]: Done   4 out of   4 | elapsed:    0.0s remaining:    0.0s\n"
     ]
    },
    {
     "name": "stdout",
     "output_type": "stream",
     "text": [
      "Using data from preloaded Raw for 8 events and 657 original time points ...\n",
      "Setting up band-pass filter from 0.5 - 4 Hz\n",
      "\n",
      "FIR filter parameters\n",
      "---------------------\n",
      "Designing a one-pass, zero-phase, non-causal bandpass filter:\n",
      "- Windowed time-domain design (firwin) method\n",
      "- Hamming window with 0.0194 passband ripple and 53 dB stopband attenuation\n",
      "- Lower passband edge: 0.50\n",
      "- Lower transition bandwidth: 0.01 Hz (-6 dB cutoff frequency: 0.49 Hz)\n",
      "- Upper passband edge: 4.00 Hz\n",
      "- Upper transition bandwidth: 0.01 Hz (-6 dB cutoff frequency: 4.00 Hz)\n",
      "- Filter length: 52801 samples (330.006 sec)\n",
      "\n"
     ]
    },
    {
     "name": "stderr",
     "output_type": "stream",
     "text": [
      "[Parallel(n_jobs=1)]: Done 512 out of 512 | elapsed:    1.5s finished\n",
      "/tmp/ipykernel_10908/2567194375.py:3: RuntimeWarning: filter_length (52801) is longer than the signal (657), distortion is likely. Reduce filter length or filter a longer signal.\n",
      "  delta = mne.filter.filter_data(data.get_data(), 160, 0.5, 4, h_trans_bandwidth=0.01, l_trans_bandwidth=0.01)\n",
      "[Parallel(n_jobs=1)]: Using backend SequentialBackend with 1 concurrent workers.\n",
      "[Parallel(n_jobs=1)]: Done   1 out of   1 | elapsed:    0.0s remaining:    0.0s\n",
      "[Parallel(n_jobs=1)]: Done   2 out of   2 | elapsed:    0.0s remaining:    0.0s\n",
      "[Parallel(n_jobs=1)]: Done   3 out of   3 | elapsed:    0.0s remaining:    0.0s\n",
      "[Parallel(n_jobs=1)]: Done   4 out of   4 | elapsed:    0.0s remaining:    0.0s\n"
     ]
    },
    {
     "name": "stdout",
     "output_type": "stream",
     "text": [
      "Using data from preloaded Raw for 8 events and 657 original time points ...\n",
      "Setting up band-pass filter from 4 - 8 Hz\n",
      "\n",
      "FIR filter parameters\n",
      "---------------------\n",
      "Designing a one-pass, zero-phase, non-causal bandpass filter:\n",
      "- Windowed time-domain design (firwin) method\n",
      "- Hamming window with 0.0194 passband ripple and 53 dB stopband attenuation\n",
      "- Lower passband edge: 4.00\n",
      "- Lower transition bandwidth: 0.01 Hz (-6 dB cutoff frequency: 4.00 Hz)\n",
      "- Upper passband edge: 8.00 Hz\n",
      "- Upper transition bandwidth: 0.01 Hz (-6 dB cutoff frequency: 8.01 Hz)\n",
      "- Filter length: 52801 samples (330.006 sec)\n",
      "\n"
     ]
    },
    {
     "name": "stderr",
     "output_type": "stream",
     "text": [
      "[Parallel(n_jobs=1)]: Done 512 out of 512 | elapsed:    1.4s finished\n",
      "/tmp/ipykernel_10908/2567194375.py:4: RuntimeWarning: filter_length (52801) is longer than the signal (657), distortion is likely. Reduce filter length or filter a longer signal.\n",
      "  theta = mne.filter.filter_data(data.get_data(), 160, 4, 8, h_trans_bandwidth=0.01, l_trans_bandwidth=0.01)\n",
      "[Parallel(n_jobs=1)]: Using backend SequentialBackend with 1 concurrent workers.\n",
      "[Parallel(n_jobs=1)]: Done   1 out of   1 | elapsed:    0.0s remaining:    0.0s\n",
      "[Parallel(n_jobs=1)]: Done   2 out of   2 | elapsed:    0.0s remaining:    0.0s\n",
      "[Parallel(n_jobs=1)]: Done   3 out of   3 | elapsed:    0.0s remaining:    0.0s\n",
      "[Parallel(n_jobs=1)]: Done   4 out of   4 | elapsed:    0.0s remaining:    0.0s\n"
     ]
    },
    {
     "name": "stdout",
     "output_type": "stream",
     "text": [
      "Using data from preloaded Raw for 8 events and 657 original time points ...\n",
      "Setting up band-pass filter from 8 - 14 Hz\n",
      "\n",
      "FIR filter parameters\n",
      "---------------------\n",
      "Designing a one-pass, zero-phase, non-causal bandpass filter:\n",
      "- Windowed time-domain design (firwin) method\n",
      "- Hamming window with 0.0194 passband ripple and 53 dB stopband attenuation\n",
      "- Lower passband edge: 8.00\n",
      "- Lower transition bandwidth: 0.01 Hz (-6 dB cutoff frequency: 8.00 Hz)\n",
      "- Upper passband edge: 14.00 Hz\n",
      "- Upper transition bandwidth: 0.01 Hz (-6 dB cutoff frequency: 14.01 Hz)\n",
      "- Filter length: 52801 samples (330.006 sec)\n",
      "\n"
     ]
    },
    {
     "name": "stderr",
     "output_type": "stream",
     "text": [
      "[Parallel(n_jobs=1)]: Done 512 out of 512 | elapsed:    1.4s finished\n",
      "/tmp/ipykernel_10908/2567194375.py:5: RuntimeWarning: filter_length (52801) is longer than the signal (657), distortion is likely. Reduce filter length or filter a longer signal.\n",
      "  alpha = mne.filter.filter_data(data.get_data(), 160, 8, 14, h_trans_bandwidth=0.01, l_trans_bandwidth=0.01)\n",
      "[Parallel(n_jobs=1)]: Using backend SequentialBackend with 1 concurrent workers.\n",
      "[Parallel(n_jobs=1)]: Done   1 out of   1 | elapsed:    0.0s remaining:    0.0s\n",
      "[Parallel(n_jobs=1)]: Done   2 out of   2 | elapsed:    0.0s remaining:    0.0s\n",
      "[Parallel(n_jobs=1)]: Done   3 out of   3 | elapsed:    0.0s remaining:    0.0s\n",
      "[Parallel(n_jobs=1)]: Done   4 out of   4 | elapsed:    0.0s remaining:    0.0s\n"
     ]
    },
    {
     "name": "stdout",
     "output_type": "stream",
     "text": [
      "Using data from preloaded Raw for 8 events and 657 original time points ...\n",
      "Setting up band-pass filter from 14 - 30 Hz\n",
      "\n",
      "FIR filter parameters\n",
      "---------------------\n",
      "Designing a one-pass, zero-phase, non-causal bandpass filter:\n",
      "- Windowed time-domain design (firwin) method\n",
      "- Hamming window with 0.0194 passband ripple and 53 dB stopband attenuation\n",
      "- Lower passband edge: 14.00\n",
      "- Lower transition bandwidth: 0.01 Hz (-6 dB cutoff frequency: 13.99 Hz)\n",
      "- Upper passband edge: 30.00 Hz\n",
      "- Upper transition bandwidth: 0.01 Hz (-6 dB cutoff frequency: 30.00 Hz)\n",
      "- Filter length: 52801 samples (330.006 sec)\n",
      "\n"
     ]
    },
    {
     "name": "stderr",
     "output_type": "stream",
     "text": [
      "[Parallel(n_jobs=1)]: Done 512 out of 512 | elapsed:    1.4s finished\n",
      "/tmp/ipykernel_10908/2567194375.py:6: RuntimeWarning: filter_length (52801) is longer than the signal (657), distortion is likely. Reduce filter length or filter a longer signal.\n",
      "  beta = mne.filter.filter_data(data.get_data(), 160, 14, 30, h_trans_bandwidth=0.01, l_trans_bandwidth=0.01)\n",
      "[Parallel(n_jobs=1)]: Using backend SequentialBackend with 1 concurrent workers.\n",
      "[Parallel(n_jobs=1)]: Done   1 out of   1 | elapsed:    0.0s remaining:    0.0s\n",
      "[Parallel(n_jobs=1)]: Done   2 out of   2 | elapsed:    0.0s remaining:    0.0s\n",
      "[Parallel(n_jobs=1)]: Done   3 out of   3 | elapsed:    0.0s remaining:    0.0s\n",
      "[Parallel(n_jobs=1)]: Done   4 out of   4 | elapsed:    0.0s remaining:    0.0s\n"
     ]
    },
    {
     "name": "stdout",
     "output_type": "stream",
     "text": [
      "Using data from preloaded Raw for 8 events and 657 original time points ...\n",
      "Setting up band-pass filter from 30 - 60 Hz\n",
      "\n",
      "FIR filter parameters\n",
      "---------------------\n",
      "Designing a one-pass, zero-phase, non-causal bandpass filter:\n",
      "- Windowed time-domain design (firwin) method\n",
      "- Hamming window with 0.0194 passband ripple and 53 dB stopband attenuation\n",
      "- Lower passband edge: 30.00\n",
      "- Lower transition bandwidth: 0.01 Hz (-6 dB cutoff frequency: 30.00 Hz)\n",
      "- Upper passband edge: 60.00 Hz\n",
      "- Upper transition bandwidth: 0.01 Hz (-6 dB cutoff frequency: 60.01 Hz)\n",
      "- Filter length: 52801 samples (330.006 sec)\n",
      "\n"
     ]
    },
    {
     "name": "stderr",
     "output_type": "stream",
     "text": [
      "[Parallel(n_jobs=1)]: Done 512 out of 512 | elapsed:    1.5s finished\n",
      "/tmp/ipykernel_10908/2567194375.py:7: RuntimeWarning: filter_length (52801) is longer than the signal (657), distortion is likely. Reduce filter length or filter a longer signal.\n",
      "  gamma = mne.filter.filter_data(data.get_data(), 160, 30, 60, h_trans_bandwidth=0.01, l_trans_bandwidth=0.01)\n",
      "[Parallel(n_jobs=1)]: Using backend SequentialBackend with 1 concurrent workers.\n",
      "[Parallel(n_jobs=1)]: Done   1 out of   1 | elapsed:    0.0s remaining:    0.0s\n",
      "[Parallel(n_jobs=1)]: Done   2 out of   2 | elapsed:    0.0s remaining:    0.0s\n",
      "[Parallel(n_jobs=1)]: Done   3 out of   3 | elapsed:    0.0s remaining:    0.0s\n",
      "[Parallel(n_jobs=1)]: Done   4 out of   4 | elapsed:    0.0s remaining:    0.0s\n"
     ]
    },
    {
     "name": "stdout",
     "output_type": "stream",
     "text": [
      "Using data from preloaded Raw for 8 events and 657 original time points ...\n",
      "Setting up high-pass filter at 60 Hz\n",
      "\n",
      "FIR filter parameters\n",
      "---------------------\n",
      "Designing a one-pass, zero-phase, non-causal highpass filter:\n",
      "- Windowed time-domain design (firwin) method\n",
      "- Hamming window with 0.0194 passband ripple and 53 dB stopband attenuation\n",
      "- Lower passband edge: 60.00\n",
      "- Lower transition bandwidth: 0.01 Hz (-6 dB cutoff frequency: 59.99 Hz)\n",
      "- Filter length: 52801 samples (330.006 sec)\n",
      "\n"
     ]
    },
    {
     "name": "stderr",
     "output_type": "stream",
     "text": [
      "[Parallel(n_jobs=1)]: Done 512 out of 512 | elapsed:    1.4s finished\n",
      "/tmp/ipykernel_10908/2567194375.py:8: RuntimeWarning: filter_length (52801) is longer than the signal (657), distortion is likely. Reduce filter length or filter a longer signal.\n",
      "  high_gamma = mne.filter.filter_data(data.get_data(), 160, 60, None, h_trans_bandwidth=0.01, l_trans_bandwidth=0.01)\n",
      "[Parallel(n_jobs=1)]: Using backend SequentialBackend with 1 concurrent workers.\n",
      "[Parallel(n_jobs=1)]: Done   1 out of   1 | elapsed:    0.0s remaining:    0.0s\n",
      "[Parallel(n_jobs=1)]: Done   2 out of   2 | elapsed:    0.0s remaining:    0.0s\n",
      "[Parallel(n_jobs=1)]: Done   3 out of   3 | elapsed:    0.0s remaining:    0.0s\n",
      "[Parallel(n_jobs=1)]: Done   4 out of   4 | elapsed:    0.0s remaining:    0.0s\n"
     ]
    },
    {
     "name": "stdout",
     "output_type": "stream",
     "text": [
      "Using data from preloaded Raw for 7 events and 657 original time points ...\n",
      "0 bad epochs dropped\n",
      "Setting up band-pass filter from 0.01 - 0.1 Hz\n",
      "\n",
      "FIR filter parameters\n",
      "---------------------\n",
      "Designing a one-pass, zero-phase, non-causal bandpass filter:\n",
      "- Windowed time-domain design (firwin) method\n",
      "- Hamming window with 0.0194 passband ripple and 53 dB stopband attenuation\n",
      "- Lower passband edge: 0.01\n",
      "- Lower transition bandwidth: 0.01 Hz (-6 dB cutoff frequency: 0.01 Hz)\n",
      "- Upper passband edge: 0.10 Hz\n",
      "- Upper transition bandwidth: 0.01 Hz (-6 dB cutoff frequency: 0.11 Hz)\n",
      "- Filter length: 52801 samples (330.006 sec)\n",
      "\n"
     ]
    },
    {
     "name": "stderr",
     "output_type": "stream",
     "text": [
      "[Parallel(n_jobs=1)]: Done 512 out of 512 | elapsed:    1.5s finished\n",
      "/tmp/ipykernel_10908/2567194375.py:2: RuntimeWarning: filter_length (52801) is longer than the signal (657), distortion is likely. Reduce filter length or filter a longer signal.\n",
      "  super_low_freq = mne.filter.filter_data(data.get_data(), 160, 0.01, 0.1, h_trans_bandwidth=0.01, l_trans_bandwidth=0.01)\n",
      "[Parallel(n_jobs=1)]: Using backend SequentialBackend with 1 concurrent workers.\n",
      "[Parallel(n_jobs=1)]: Done   1 out of   1 | elapsed:    0.0s remaining:    0.0s\n",
      "[Parallel(n_jobs=1)]: Done   2 out of   2 | elapsed:    0.0s remaining:    0.0s\n",
      "[Parallel(n_jobs=1)]: Done   3 out of   3 | elapsed:    0.0s remaining:    0.0s\n",
      "[Parallel(n_jobs=1)]: Done   4 out of   4 | elapsed:    0.0s remaining:    0.0s\n"
     ]
    },
    {
     "name": "stdout",
     "output_type": "stream",
     "text": [
      "Using data from preloaded Raw for 7 events and 657 original time points ...\n",
      "Setting up band-pass filter from 0.5 - 4 Hz\n",
      "\n",
      "FIR filter parameters\n",
      "---------------------\n",
      "Designing a one-pass, zero-phase, non-causal bandpass filter:\n",
      "- Windowed time-domain design (firwin) method\n",
      "- Hamming window with 0.0194 passband ripple and 53 dB stopband attenuation\n",
      "- Lower passband edge: 0.50\n",
      "- Lower transition bandwidth: 0.01 Hz (-6 dB cutoff frequency: 0.49 Hz)\n",
      "- Upper passband edge: 4.00 Hz\n",
      "- Upper transition bandwidth: 0.01 Hz (-6 dB cutoff frequency: 4.00 Hz)\n",
      "- Filter length: 52801 samples (330.006 sec)\n",
      "\n"
     ]
    },
    {
     "name": "stderr",
     "output_type": "stream",
     "text": [
      "[Parallel(n_jobs=1)]: Done 448 out of 448 | elapsed:    1.3s finished\n",
      "/tmp/ipykernel_10908/2567194375.py:3: RuntimeWarning: filter_length (52801) is longer than the signal (657), distortion is likely. Reduce filter length or filter a longer signal.\n",
      "  delta = mne.filter.filter_data(data.get_data(), 160, 0.5, 4, h_trans_bandwidth=0.01, l_trans_bandwidth=0.01)\n",
      "[Parallel(n_jobs=1)]: Using backend SequentialBackend with 1 concurrent workers.\n",
      "[Parallel(n_jobs=1)]: Done   1 out of   1 | elapsed:    0.0s remaining:    0.0s\n",
      "[Parallel(n_jobs=1)]: Done   2 out of   2 | elapsed:    0.0s remaining:    0.0s\n",
      "[Parallel(n_jobs=1)]: Done   3 out of   3 | elapsed:    0.0s remaining:    0.0s\n",
      "[Parallel(n_jobs=1)]: Done   4 out of   4 | elapsed:    0.0s remaining:    0.0s\n"
     ]
    },
    {
     "name": "stdout",
     "output_type": "stream",
     "text": [
      "Using data from preloaded Raw for 7 events and 657 original time points ...\n",
      "Setting up band-pass filter from 4 - 8 Hz\n",
      "\n",
      "FIR filter parameters\n",
      "---------------------\n",
      "Designing a one-pass, zero-phase, non-causal bandpass filter:\n",
      "- Windowed time-domain design (firwin) method\n",
      "- Hamming window with 0.0194 passband ripple and 53 dB stopband attenuation\n",
      "- Lower passband edge: 4.00\n",
      "- Lower transition bandwidth: 0.01 Hz (-6 dB cutoff frequency: 4.00 Hz)\n",
      "- Upper passband edge: 8.00 Hz\n",
      "- Upper transition bandwidth: 0.01 Hz (-6 dB cutoff frequency: 8.01 Hz)\n",
      "- Filter length: 52801 samples (330.006 sec)\n",
      "\n"
     ]
    },
    {
     "name": "stderr",
     "output_type": "stream",
     "text": [
      "[Parallel(n_jobs=1)]: Done 448 out of 448 | elapsed:    1.3s finished\n",
      "/tmp/ipykernel_10908/2567194375.py:4: RuntimeWarning: filter_length (52801) is longer than the signal (657), distortion is likely. Reduce filter length or filter a longer signal.\n",
      "  theta = mne.filter.filter_data(data.get_data(), 160, 4, 8, h_trans_bandwidth=0.01, l_trans_bandwidth=0.01)\n",
      "[Parallel(n_jobs=1)]: Using backend SequentialBackend with 1 concurrent workers.\n",
      "[Parallel(n_jobs=1)]: Done   1 out of   1 | elapsed:    0.0s remaining:    0.0s\n",
      "[Parallel(n_jobs=1)]: Done   2 out of   2 | elapsed:    0.0s remaining:    0.0s\n",
      "[Parallel(n_jobs=1)]: Done   3 out of   3 | elapsed:    0.0s remaining:    0.0s\n",
      "[Parallel(n_jobs=1)]: Done   4 out of   4 | elapsed:    0.0s remaining:    0.0s\n"
     ]
    },
    {
     "name": "stdout",
     "output_type": "stream",
     "text": [
      "Using data from preloaded Raw for 7 events and 657 original time points ...\n",
      "Setting up band-pass filter from 8 - 14 Hz\n",
      "\n",
      "FIR filter parameters\n",
      "---------------------\n",
      "Designing a one-pass, zero-phase, non-causal bandpass filter:\n",
      "- Windowed time-domain design (firwin) method\n",
      "- Hamming window with 0.0194 passband ripple and 53 dB stopband attenuation\n",
      "- Lower passband edge: 8.00\n",
      "- Lower transition bandwidth: 0.01 Hz (-6 dB cutoff frequency: 8.00 Hz)\n",
      "- Upper passband edge: 14.00 Hz\n",
      "- Upper transition bandwidth: 0.01 Hz (-6 dB cutoff frequency: 14.01 Hz)\n",
      "- Filter length: 52801 samples (330.006 sec)\n",
      "\n"
     ]
    },
    {
     "name": "stderr",
     "output_type": "stream",
     "text": [
      "[Parallel(n_jobs=1)]: Done 448 out of 448 | elapsed:    1.3s finished\n",
      "/tmp/ipykernel_10908/2567194375.py:5: RuntimeWarning: filter_length (52801) is longer than the signal (657), distortion is likely. Reduce filter length or filter a longer signal.\n",
      "  alpha = mne.filter.filter_data(data.get_data(), 160, 8, 14, h_trans_bandwidth=0.01, l_trans_bandwidth=0.01)\n",
      "[Parallel(n_jobs=1)]: Using backend SequentialBackend with 1 concurrent workers.\n",
      "[Parallel(n_jobs=1)]: Done   1 out of   1 | elapsed:    0.0s remaining:    0.0s\n",
      "[Parallel(n_jobs=1)]: Done   2 out of   2 | elapsed:    0.0s remaining:    0.0s\n",
      "[Parallel(n_jobs=1)]: Done   3 out of   3 | elapsed:    0.0s remaining:    0.0s\n",
      "[Parallel(n_jobs=1)]: Done   4 out of   4 | elapsed:    0.0s remaining:    0.0s\n"
     ]
    },
    {
     "name": "stdout",
     "output_type": "stream",
     "text": [
      "Using data from preloaded Raw for 7 events and 657 original time points ...\n",
      "Setting up band-pass filter from 14 - 30 Hz\n",
      "\n",
      "FIR filter parameters\n",
      "---------------------\n",
      "Designing a one-pass, zero-phase, non-causal bandpass filter:\n",
      "- Windowed time-domain design (firwin) method\n",
      "- Hamming window with 0.0194 passband ripple and 53 dB stopband attenuation\n",
      "- Lower passband edge: 14.00\n",
      "- Lower transition bandwidth: 0.01 Hz (-6 dB cutoff frequency: 13.99 Hz)\n",
      "- Upper passband edge: 30.00 Hz\n",
      "- Upper transition bandwidth: 0.01 Hz (-6 dB cutoff frequency: 30.00 Hz)\n",
      "- Filter length: 52801 samples (330.006 sec)\n",
      "\n"
     ]
    },
    {
     "name": "stderr",
     "output_type": "stream",
     "text": [
      "[Parallel(n_jobs=1)]: Done 448 out of 448 | elapsed:    1.3s finished\n",
      "/tmp/ipykernel_10908/2567194375.py:6: RuntimeWarning: filter_length (52801) is longer than the signal (657), distortion is likely. Reduce filter length or filter a longer signal.\n",
      "  beta = mne.filter.filter_data(data.get_data(), 160, 14, 30, h_trans_bandwidth=0.01, l_trans_bandwidth=0.01)\n",
      "[Parallel(n_jobs=1)]: Using backend SequentialBackend with 1 concurrent workers.\n",
      "[Parallel(n_jobs=1)]: Done   1 out of   1 | elapsed:    0.0s remaining:    0.0s\n",
      "[Parallel(n_jobs=1)]: Done   2 out of   2 | elapsed:    0.0s remaining:    0.0s\n",
      "[Parallel(n_jobs=1)]: Done   3 out of   3 | elapsed:    0.0s remaining:    0.0s\n",
      "[Parallel(n_jobs=1)]: Done   4 out of   4 | elapsed:    0.0s remaining:    0.0s\n"
     ]
    },
    {
     "name": "stdout",
     "output_type": "stream",
     "text": [
      "Using data from preloaded Raw for 7 events and 657 original time points ...\n",
      "Setting up band-pass filter from 30 - 60 Hz\n",
      "\n",
      "FIR filter parameters\n",
      "---------------------\n",
      "Designing a one-pass, zero-phase, non-causal bandpass filter:\n",
      "- Windowed time-domain design (firwin) method\n",
      "- Hamming window with 0.0194 passband ripple and 53 dB stopband attenuation\n",
      "- Lower passband edge: 30.00\n",
      "- Lower transition bandwidth: 0.01 Hz (-6 dB cutoff frequency: 30.00 Hz)\n",
      "- Upper passband edge: 60.00 Hz\n",
      "- Upper transition bandwidth: 0.01 Hz (-6 dB cutoff frequency: 60.01 Hz)\n",
      "- Filter length: 52801 samples (330.006 sec)\n",
      "\n"
     ]
    },
    {
     "name": "stderr",
     "output_type": "stream",
     "text": [
      "[Parallel(n_jobs=1)]: Done 448 out of 448 | elapsed:    1.3s finished\n",
      "/tmp/ipykernel_10908/2567194375.py:7: RuntimeWarning: filter_length (52801) is longer than the signal (657), distortion is likely. Reduce filter length or filter a longer signal.\n",
      "  gamma = mne.filter.filter_data(data.get_data(), 160, 30, 60, h_trans_bandwidth=0.01, l_trans_bandwidth=0.01)\n",
      "[Parallel(n_jobs=1)]: Using backend SequentialBackend with 1 concurrent workers.\n",
      "[Parallel(n_jobs=1)]: Done   1 out of   1 | elapsed:    0.0s remaining:    0.0s\n",
      "[Parallel(n_jobs=1)]: Done   2 out of   2 | elapsed:    0.0s remaining:    0.0s\n",
      "[Parallel(n_jobs=1)]: Done   3 out of   3 | elapsed:    0.0s remaining:    0.0s\n",
      "[Parallel(n_jobs=1)]: Done   4 out of   4 | elapsed:    0.0s remaining:    0.0s\n"
     ]
    },
    {
     "name": "stdout",
     "output_type": "stream",
     "text": [
      "Using data from preloaded Raw for 7 events and 657 original time points ...\n",
      "Setting up high-pass filter at 60 Hz\n",
      "\n",
      "FIR filter parameters\n",
      "---------------------\n",
      "Designing a one-pass, zero-phase, non-causal highpass filter:\n",
      "- Windowed time-domain design (firwin) method\n",
      "- Hamming window with 0.0194 passband ripple and 53 dB stopband attenuation\n",
      "- Lower passband edge: 60.00\n",
      "- Lower transition bandwidth: 0.01 Hz (-6 dB cutoff frequency: 59.99 Hz)\n",
      "- Filter length: 52801 samples (330.006 sec)\n",
      "\n"
     ]
    },
    {
     "name": "stderr",
     "output_type": "stream",
     "text": [
      "[Parallel(n_jobs=1)]: Done 448 out of 448 | elapsed:    1.3s finished\n",
      "/tmp/ipykernel_10908/2567194375.py:8: RuntimeWarning: filter_length (52801) is longer than the signal (657), distortion is likely. Reduce filter length or filter a longer signal.\n",
      "  high_gamma = mne.filter.filter_data(data.get_data(), 160, 60, None, h_trans_bandwidth=0.01, l_trans_bandwidth=0.01)\n",
      "[Parallel(n_jobs=1)]: Using backend SequentialBackend with 1 concurrent workers.\n",
      "[Parallel(n_jobs=1)]: Done   1 out of   1 | elapsed:    0.0s remaining:    0.0s\n",
      "[Parallel(n_jobs=1)]: Done   2 out of   2 | elapsed:    0.0s remaining:    0.0s\n",
      "[Parallel(n_jobs=1)]: Done   3 out of   3 | elapsed:    0.0s remaining:    0.0s\n",
      "[Parallel(n_jobs=1)]: Done   4 out of   4 | elapsed:    0.0s remaining:    0.0s\n"
     ]
    },
    {
     "name": "stdout",
     "output_type": "stream",
     "text": [
      "Using data from preloaded Raw for 7 events and 657 original time points ...\n",
      "0 bad epochs dropped\n",
      "Setting up band-pass filter from 0.01 - 0.1 Hz\n",
      "\n",
      "FIR filter parameters\n",
      "---------------------\n",
      "Designing a one-pass, zero-phase, non-causal bandpass filter:\n",
      "- Windowed time-domain design (firwin) method\n",
      "- Hamming window with 0.0194 passband ripple and 53 dB stopband attenuation\n",
      "- Lower passband edge: 0.01\n",
      "- Lower transition bandwidth: 0.01 Hz (-6 dB cutoff frequency: 0.01 Hz)\n",
      "- Upper passband edge: 0.10 Hz\n",
      "- Upper transition bandwidth: 0.01 Hz (-6 dB cutoff frequency: 0.11 Hz)\n",
      "- Filter length: 52801 samples (330.006 sec)\n",
      "\n"
     ]
    },
    {
     "name": "stderr",
     "output_type": "stream",
     "text": [
      "[Parallel(n_jobs=1)]: Done 448 out of 448 | elapsed:    1.3s finished\n",
      "/tmp/ipykernel_10908/2567194375.py:2: RuntimeWarning: filter_length (52801) is longer than the signal (657), distortion is likely. Reduce filter length or filter a longer signal.\n",
      "  super_low_freq = mne.filter.filter_data(data.get_data(), 160, 0.01, 0.1, h_trans_bandwidth=0.01, l_trans_bandwidth=0.01)\n",
      "[Parallel(n_jobs=1)]: Using backend SequentialBackend with 1 concurrent workers.\n",
      "[Parallel(n_jobs=1)]: Done   1 out of   1 | elapsed:    0.0s remaining:    0.0s\n",
      "[Parallel(n_jobs=1)]: Done   2 out of   2 | elapsed:    0.0s remaining:    0.0s\n",
      "[Parallel(n_jobs=1)]: Done   3 out of   3 | elapsed:    0.0s remaining:    0.0s\n",
      "[Parallel(n_jobs=1)]: Done   4 out of   4 | elapsed:    0.0s remaining:    0.0s\n"
     ]
    },
    {
     "name": "stdout",
     "output_type": "stream",
     "text": [
      "Using data from preloaded Raw for 7 events and 657 original time points ...\n",
      "Setting up band-pass filter from 0.5 - 4 Hz\n",
      "\n",
      "FIR filter parameters\n",
      "---------------------\n",
      "Designing a one-pass, zero-phase, non-causal bandpass filter:\n",
      "- Windowed time-domain design (firwin) method\n",
      "- Hamming window with 0.0194 passband ripple and 53 dB stopband attenuation\n",
      "- Lower passband edge: 0.50\n",
      "- Lower transition bandwidth: 0.01 Hz (-6 dB cutoff frequency: 0.49 Hz)\n",
      "- Upper passband edge: 4.00 Hz\n",
      "- Upper transition bandwidth: 0.01 Hz (-6 dB cutoff frequency: 4.00 Hz)\n",
      "- Filter length: 52801 samples (330.006 sec)\n",
      "\n"
     ]
    },
    {
     "name": "stderr",
     "output_type": "stream",
     "text": [
      "[Parallel(n_jobs=1)]: Done 448 out of 448 | elapsed:    1.3s finished\n",
      "/tmp/ipykernel_10908/2567194375.py:3: RuntimeWarning: filter_length (52801) is longer than the signal (657), distortion is likely. Reduce filter length or filter a longer signal.\n",
      "  delta = mne.filter.filter_data(data.get_data(), 160, 0.5, 4, h_trans_bandwidth=0.01, l_trans_bandwidth=0.01)\n",
      "[Parallel(n_jobs=1)]: Using backend SequentialBackend with 1 concurrent workers.\n",
      "[Parallel(n_jobs=1)]: Done   1 out of   1 | elapsed:    0.0s remaining:    0.0s\n",
      "[Parallel(n_jobs=1)]: Done   2 out of   2 | elapsed:    0.0s remaining:    0.0s\n",
      "[Parallel(n_jobs=1)]: Done   3 out of   3 | elapsed:    0.0s remaining:    0.0s\n",
      "[Parallel(n_jobs=1)]: Done   4 out of   4 | elapsed:    0.0s remaining:    0.0s\n"
     ]
    },
    {
     "name": "stdout",
     "output_type": "stream",
     "text": [
      "Using data from preloaded Raw for 7 events and 657 original time points ...\n",
      "Setting up band-pass filter from 4 - 8 Hz\n",
      "\n",
      "FIR filter parameters\n",
      "---------------------\n",
      "Designing a one-pass, zero-phase, non-causal bandpass filter:\n",
      "- Windowed time-domain design (firwin) method\n",
      "- Hamming window with 0.0194 passband ripple and 53 dB stopband attenuation\n",
      "- Lower passband edge: 4.00\n",
      "- Lower transition bandwidth: 0.01 Hz (-6 dB cutoff frequency: 4.00 Hz)\n",
      "- Upper passband edge: 8.00 Hz\n",
      "- Upper transition bandwidth: 0.01 Hz (-6 dB cutoff frequency: 8.01 Hz)\n",
      "- Filter length: 52801 samples (330.006 sec)\n",
      "\n"
     ]
    },
    {
     "name": "stderr",
     "output_type": "stream",
     "text": [
      "[Parallel(n_jobs=1)]: Done 448 out of 448 | elapsed:    1.3s finished\n",
      "/tmp/ipykernel_10908/2567194375.py:4: RuntimeWarning: filter_length (52801) is longer than the signal (657), distortion is likely. Reduce filter length or filter a longer signal.\n",
      "  theta = mne.filter.filter_data(data.get_data(), 160, 4, 8, h_trans_bandwidth=0.01, l_trans_bandwidth=0.01)\n",
      "[Parallel(n_jobs=1)]: Using backend SequentialBackend with 1 concurrent workers.\n",
      "[Parallel(n_jobs=1)]: Done   1 out of   1 | elapsed:    0.0s remaining:    0.0s\n",
      "[Parallel(n_jobs=1)]: Done   2 out of   2 | elapsed:    0.0s remaining:    0.0s\n",
      "[Parallel(n_jobs=1)]: Done   3 out of   3 | elapsed:    0.0s remaining:    0.0s\n",
      "[Parallel(n_jobs=1)]: Done   4 out of   4 | elapsed:    0.0s remaining:    0.0s\n"
     ]
    },
    {
     "name": "stdout",
     "output_type": "stream",
     "text": [
      "Using data from preloaded Raw for 7 events and 657 original time points ...\n",
      "Setting up band-pass filter from 8 - 14 Hz\n",
      "\n",
      "FIR filter parameters\n",
      "---------------------\n",
      "Designing a one-pass, zero-phase, non-causal bandpass filter:\n",
      "- Windowed time-domain design (firwin) method\n",
      "- Hamming window with 0.0194 passband ripple and 53 dB stopband attenuation\n",
      "- Lower passband edge: 8.00\n",
      "- Lower transition bandwidth: 0.01 Hz (-6 dB cutoff frequency: 8.00 Hz)\n",
      "- Upper passband edge: 14.00 Hz\n",
      "- Upper transition bandwidth: 0.01 Hz (-6 dB cutoff frequency: 14.01 Hz)\n",
      "- Filter length: 52801 samples (330.006 sec)\n",
      "\n"
     ]
    },
    {
     "name": "stderr",
     "output_type": "stream",
     "text": [
      "[Parallel(n_jobs=1)]: Done 448 out of 448 | elapsed:    1.3s finished\n",
      "/tmp/ipykernel_10908/2567194375.py:5: RuntimeWarning: filter_length (52801) is longer than the signal (657), distortion is likely. Reduce filter length or filter a longer signal.\n",
      "  alpha = mne.filter.filter_data(data.get_data(), 160, 8, 14, h_trans_bandwidth=0.01, l_trans_bandwidth=0.01)\n",
      "[Parallel(n_jobs=1)]: Using backend SequentialBackend with 1 concurrent workers.\n",
      "[Parallel(n_jobs=1)]: Done   1 out of   1 | elapsed:    0.0s remaining:    0.0s\n",
      "[Parallel(n_jobs=1)]: Done   2 out of   2 | elapsed:    0.0s remaining:    0.0s\n",
      "[Parallel(n_jobs=1)]: Done   3 out of   3 | elapsed:    0.0s remaining:    0.0s\n",
      "[Parallel(n_jobs=1)]: Done   4 out of   4 | elapsed:    0.0s remaining:    0.0s\n"
     ]
    },
    {
     "name": "stdout",
     "output_type": "stream",
     "text": [
      "Using data from preloaded Raw for 7 events and 657 original time points ...\n",
      "Setting up band-pass filter from 14 - 30 Hz\n",
      "\n",
      "FIR filter parameters\n",
      "---------------------\n",
      "Designing a one-pass, zero-phase, non-causal bandpass filter:\n",
      "- Windowed time-domain design (firwin) method\n",
      "- Hamming window with 0.0194 passband ripple and 53 dB stopband attenuation\n",
      "- Lower passband edge: 14.00\n",
      "- Lower transition bandwidth: 0.01 Hz (-6 dB cutoff frequency: 13.99 Hz)\n",
      "- Upper passband edge: 30.00 Hz\n",
      "- Upper transition bandwidth: 0.01 Hz (-6 dB cutoff frequency: 30.00 Hz)\n",
      "- Filter length: 52801 samples (330.006 sec)\n",
      "\n"
     ]
    },
    {
     "name": "stderr",
     "output_type": "stream",
     "text": [
      "[Parallel(n_jobs=1)]: Done 448 out of 448 | elapsed:    1.3s finished\n",
      "/tmp/ipykernel_10908/2567194375.py:6: RuntimeWarning: filter_length (52801) is longer than the signal (657), distortion is likely. Reduce filter length or filter a longer signal.\n",
      "  beta = mne.filter.filter_data(data.get_data(), 160, 14, 30, h_trans_bandwidth=0.01, l_trans_bandwidth=0.01)\n",
      "[Parallel(n_jobs=1)]: Using backend SequentialBackend with 1 concurrent workers.\n",
      "[Parallel(n_jobs=1)]: Done   1 out of   1 | elapsed:    0.0s remaining:    0.0s\n",
      "[Parallel(n_jobs=1)]: Done   2 out of   2 | elapsed:    0.0s remaining:    0.0s\n",
      "[Parallel(n_jobs=1)]: Done   3 out of   3 | elapsed:    0.0s remaining:    0.0s\n",
      "[Parallel(n_jobs=1)]: Done   4 out of   4 | elapsed:    0.0s remaining:    0.0s\n"
     ]
    },
    {
     "name": "stdout",
     "output_type": "stream",
     "text": [
      "Using data from preloaded Raw for 7 events and 657 original time points ...\n",
      "Setting up band-pass filter from 30 - 60 Hz\n",
      "\n",
      "FIR filter parameters\n",
      "---------------------\n",
      "Designing a one-pass, zero-phase, non-causal bandpass filter:\n",
      "- Windowed time-domain design (firwin) method\n",
      "- Hamming window with 0.0194 passband ripple and 53 dB stopband attenuation\n",
      "- Lower passband edge: 30.00\n",
      "- Lower transition bandwidth: 0.01 Hz (-6 dB cutoff frequency: 30.00 Hz)\n",
      "- Upper passband edge: 60.00 Hz\n",
      "- Upper transition bandwidth: 0.01 Hz (-6 dB cutoff frequency: 60.01 Hz)\n",
      "- Filter length: 52801 samples (330.006 sec)\n",
      "\n"
     ]
    },
    {
     "name": "stderr",
     "output_type": "stream",
     "text": [
      "[Parallel(n_jobs=1)]: Done 448 out of 448 | elapsed:    1.3s finished\n",
      "/tmp/ipykernel_10908/2567194375.py:7: RuntimeWarning: filter_length (52801) is longer than the signal (657), distortion is likely. Reduce filter length or filter a longer signal.\n",
      "  gamma = mne.filter.filter_data(data.get_data(), 160, 30, 60, h_trans_bandwidth=0.01, l_trans_bandwidth=0.01)\n",
      "[Parallel(n_jobs=1)]: Using backend SequentialBackend with 1 concurrent workers.\n",
      "[Parallel(n_jobs=1)]: Done   1 out of   1 | elapsed:    0.0s remaining:    0.0s\n",
      "[Parallel(n_jobs=1)]: Done   2 out of   2 | elapsed:    0.0s remaining:    0.0s\n",
      "[Parallel(n_jobs=1)]: Done   3 out of   3 | elapsed:    0.0s remaining:    0.0s\n",
      "[Parallel(n_jobs=1)]: Done   4 out of   4 | elapsed:    0.0s remaining:    0.0s\n"
     ]
    },
    {
     "name": "stdout",
     "output_type": "stream",
     "text": [
      "Using data from preloaded Raw for 7 events and 657 original time points ...\n",
      "Setting up high-pass filter at 60 Hz\n",
      "\n",
      "FIR filter parameters\n",
      "---------------------\n",
      "Designing a one-pass, zero-phase, non-causal highpass filter:\n",
      "- Windowed time-domain design (firwin) method\n",
      "- Hamming window with 0.0194 passband ripple and 53 dB stopband attenuation\n",
      "- Lower passband edge: 60.00\n",
      "- Lower transition bandwidth: 0.01 Hz (-6 dB cutoff frequency: 59.99 Hz)\n",
      "- Filter length: 52801 samples (330.006 sec)\n",
      "\n"
     ]
    },
    {
     "name": "stderr",
     "output_type": "stream",
     "text": [
      "[Parallel(n_jobs=1)]: Done 448 out of 448 | elapsed:    1.3s finished\n",
      "/tmp/ipykernel_10908/2567194375.py:8: RuntimeWarning: filter_length (52801) is longer than the signal (657), distortion is likely. Reduce filter length or filter a longer signal.\n",
      "  high_gamma = mne.filter.filter_data(data.get_data(), 160, 60, None, h_trans_bandwidth=0.01, l_trans_bandwidth=0.01)\n",
      "[Parallel(n_jobs=1)]: Using backend SequentialBackend with 1 concurrent workers.\n",
      "[Parallel(n_jobs=1)]: Done   1 out of   1 | elapsed:    0.0s remaining:    0.0s\n",
      "[Parallel(n_jobs=1)]: Done   2 out of   2 | elapsed:    0.0s remaining:    0.0s\n",
      "[Parallel(n_jobs=1)]: Done   3 out of   3 | elapsed:    0.0s remaining:    0.0s\n",
      "[Parallel(n_jobs=1)]: Done   4 out of   4 | elapsed:    0.0s remaining:    0.0s\n",
      "[Parallel(n_jobs=1)]: Done 448 out of 448 | elapsed:    1.3s finished\n"
     ]
    }
   ],
   "source": [
    "tmin, tmax = 0, 4.1\n",
    "epochs = mne.Epochs(data, events[0], tmin=tmin, tmax=tmax, baseline=(0, 0))\n",
    "\n",
    "left_rest = epochs['1']\n",
    "right_rest = epochs['1']\n",
    "\n",
    "left_rest_fb = get_frequency_bands(left_rest)\n",
    "right_rest_fb = get_frequency_bands(right_rest)\n",
    "\n",
    "left_lh = epochs['2']\n",
    "right_lh = epochs['2']\n",
    "\n",
    "left_lh_fb = get_frequency_bands(left_lh)\n",
    "right_lh_fb = get_frequency_bands(right_lh)\n",
    "\n",
    "left_rh = epochs['3']\n",
    "right_rh = epochs['3']\n",
    "\n",
    "left_rh_fb = get_frequency_bands(left_rh)\n",
    "right_rh_fb = get_frequency_bands(right_rh)"
   ]
  },
  {
   "attachments": {},
   "cell_type": "markdown",
   "metadata": {},
   "source": [
    "## Low frequency visualization"
   ]
  },
  {
   "cell_type": "code",
   "execution_count": 12,
   "metadata": {},
   "outputs": [
    {
     "data": {
      "text/plain": [
       "<Figure size 640x480 with 0 Axes>"
      ]
     },
     "execution_count": 12,
     "metadata": {},
     "output_type": "execute_result"
    },
    {
     "data": {
      "image/png": "[encoded data removed]",
      "text/plain": [
       "<Figure size 640x480 with 1 Axes>"
      ]
     },
     "metadata": {},
     "output_type": "display_data"
    },
    {
     "data": {
      "image/png": "[encoded data removed]",
      "text/plain": [
       "<Figure size 640x480 with 1 Axes>"
      ]
     },
     "metadata": {},
     "output_type": "display_data"
    },
    {
     "data": {
      "image/png": "[encoded data removed]",
      "text/plain": [
       "<Figure size 640x480 with 1 Axes>"
      ]
     },
     "metadata": {},
     "output_type": "display_data"
    },
    {
     "data": {
      "text/plain": [
       "<Figure size 640x480 with 0 Axes>"
      ]
     },
     "metadata": {},
     "output_type": "display_data"
    }
   ],
   "source": [
    "plt.plot(np.mean(left_rest_fb[1], axis=0)[7])\n",
    "plt.plot(np.mean(right_rest_fb[1], axis=0)[13])\n",
    "\n",
    "plt.figure()\n",
    "\n",
    "plt.plot(np.mean(left_lh_fb[1], axis=0)[7])\n",
    "plt.plot(np.mean(right_lh_fb[1], axis=0)[13])\n",
    "\n",
    "plt.figure()\n",
    "\n",
    "plt.plot(np.mean(left_rh_fb[1], axis=0)[7])\n",
    "plt.plot(np.mean(right_rh_fb[1], axis=0)[13])\n",
    "\n",
    "plt.figure()"
   ]
  },
  {
   "cell_type": "code",
   "execution_count": 19,
   "metadata": {},
   "outputs": [],
   "source": [
    "def transform_frequency_band(frequency_band):\n",
    "    return np.expand_dims((np.sum(np.power(frequency_band, 2), axis=2) / frequency_band.shape[2]), 1)"
   ]
  },
  {
   "cell_type": "code",
   "execution_count": 25,
   "metadata": {},
   "outputs": [],
   "source": [
    "def power_data(data):\n",
    "    power = []\n",
    "\n",
    "    for i, band in enumerate(data):\n",
    "        # concatenating different frequency bands\n",
    "        if i == 0:\n",
    "            psower = transform_frequency_band(band)\n",
    "        else:\n",
    "            power = np.concatenate((power, transform_frequency_band(band)), axis=1)\n",
    "\n",
    "# left + right are same for now\n",
    "left_rest_power = power_data(left_rest_fb)\n",
    "right_rest_power = power_data(right_rest_fb)\n",
    "\n",
    "left_lh_power = power_data(left_lh_fb)\n",
    "right_lh_power = power_data(right_lh_fb)\n",
    "\n",
    "left_rh_power = power_data(left_rh_fb)\n",
    "right_rh_power = power_data(right_rh_fb)"
   ]
  }
 ],
 "metadata": {
  "kernelspec": {
   "display_name": ".venv",
   "language": "python",
   "name": "python3"
  },
  "language_info": {
   "codemirror_mode": {
    "name": "ipython",
    "version": 3
   },
   "file_extension": ".py",
   "mimetype": "text/x-python",
   "name": "python",
   "nbconvert_exporter": "python",
   "pygments_lexer": "ipython3",
   "version": "3.8.10"
  },
  "orig_nbformat": 4
 },
 "nbformat": 4,
 "nbformat_minor": 2
}
